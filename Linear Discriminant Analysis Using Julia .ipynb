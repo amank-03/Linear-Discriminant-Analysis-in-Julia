{
 "cells": [
  {
   "cell_type": "markdown",
   "metadata": {},
   "source": [
    "\n",
    "# Linear Discriminant Analysis Using Julia \n"
   ]
  },
  {
   "cell_type": "code",
   "execution_count": 1,
   "metadata": {},
   "outputs": [],
   "source": [
    "# importing libraries \n",
    "\n",
    "using LinearAlgebra\n",
    "using Statistics\n",
    "using RDatasets\n",
    "using BenchmarkTools\n",
    "using CSV\n",
    "using DataFrames\n",
    "using Plots"
   ]
  },
  {
   "cell_type": "code",
   "execution_count": 2,
   "metadata": {},
   "outputs": [
    {
     "data": {
      "text/plain": [
       "_class_cov (generic function with 1 method)"
      ]
     },
     "execution_count": 2,
     "metadata": {},
     "output_type": "execute_result"
    }
   ],
   "source": [
    "# _class_cov \n",
    "\n",
    "function _class_cov(X , y, priors)\n",
    "```\n",
    "    Computes within-class covariance matrix\n",
    "    \n",
    "    input: \n",
    "    X : Predictor matrix \n",
    "    y: target values \n",
    "    priors: class priors\n",
    "        \n",
    "    output:\n",
    "    cov_ : Weighted within-class covariance matrix\n",
    "    \n",
    "```\n",
    "    classes = sort(unique(y))\n",
    "    cov_ = zeros(size(X)[2], size(X)[2])\n",
    "    \n",
    "    for (idx, group) in enumerate(classes)\n",
    "        Xg = X[y .== group, :]\n",
    "        cov_ += (priors[idx])*(cov(Matrix(Xg)))\n",
    "    end\n",
    "    return(cov_)\n",
    "end"
   ]
  },
  {
   "cell_type": "code",
   "execution_count": 3,
   "metadata": {},
   "outputs": [
    {
     "data": {
      "text/plain": [
       "mean_col (generic function with 1 method)"
      ]
     },
     "execution_count": 3,
     "metadata": {},
     "output_type": "execute_result"
    }
   ],
   "source": [
    "# mean_col\n",
    "\n",
    "function mean_col(X)\n",
    "```\n",
    "    computes mean of each column \n",
    "    \n",
    "    input:\n",
    "    X: Input data \n",
    "    \n",
    "    output:\n",
    "    mean_vec: mean value of each column\n",
    "    \n",
    "```\n",
    "    mean_vec = [mean(c) for c in eachcol(X)]\n",
    "    return(mean_vec)\n",
    "end"
   ]
  },
  {
   "cell_type": "code",
   "execution_count": 4,
   "metadata": {},
   "outputs": [
    {
     "data": {
      "text/plain": [
       "_class_Mean (generic function with 1 method)"
      ]
     },
     "execution_count": 4,
     "metadata": {},
     "output_type": "execute_result"
    }
   ],
   "source": [
    "# _class_Mean\n",
    "\n",
    "function _class_Mean(X,y)\n",
    "```\n",
    "    Computes class mean \n",
    "    \n",
    "    input: \n",
    "    X: Input data\n",
    "    y: target values\n",
    "    \n",
    "    output\n",
    "    \n",
    "    mean_ :  column wise mean for each class\"(a matrix of shape(number of attributes , number of classes))\"\n",
    "    \n",
    "```\n",
    "    classes = sort(unique(y))\n",
    "    \n",
    "    mean_ = zeros(size(X)[2] ,length(classes) )\n",
    "    for (idx, group) in enumerate(classes)\n",
    "        Xg = X[y .== group, :]\n",
    "        mean_val = [mean(c) for c in eachcol(Xg)]\n",
    "        mean_[: ,idx] = mean_val\n",
    "    end\n",
    "    return(mean_)\n",
    "end"
   ]
  },
  {
   "cell_type": "code",
   "execution_count": 5,
   "metadata": {},
   "outputs": [
    {
     "data": {
      "text/plain": [
       "_priors (generic function with 1 method)"
      ]
     },
     "execution_count": 5,
     "metadata": {},
     "output_type": "execute_result"
    }
   ],
   "source": [
    "# _priors \n",
    "\n",
    "function _priors(X,y)\n",
    "```\n",
    "    Computes class priors \n",
    "    \n",
    "    input: \n",
    "    X: Input data\n",
    "    y: target values\n",
    "    \n",
    "    output:\n",
    "    prior_ :  prior value for each class\n",
    "\n",
    "```\n",
    "\n",
    "    classes = sort(unique(y))\n",
    "    \n",
    "    prior_ = zeros(length(classes) )\n",
    "    for (idx, group) in enumerate(classes)\n",
    "        Xg = X[y .== group, :]\n",
    "        prop = size(Xg)[1]/size(X)[1]\n",
    "        prior_[idx] = prop\n",
    "    end\n",
    "    return(prior_)\n",
    "end"
   ]
  },
  {
   "cell_type": "code",
   "execution_count": 6,
   "metadata": {},
   "outputs": [
    {
     "data": {
      "text/plain": [
       "_make_cat (generic function with 1 method)"
      ]
     },
     "execution_count": 6,
     "metadata": {},
     "output_type": "execute_result"
    }
   ],
   "source": [
    "function _make_cat(y)\n",
    "```\n",
    "    transform target variable into numerical categorical varible \n",
    "    \n",
    "    input:\n",
    "    y: target variable\n",
    "    \n",
    "    output:\n",
    "    my_arr: numerical values corresponding to each categorical varible\"(1:number of classes)\"\n",
    "    \n",
    "```\n",
    "    classes = sort(unique(y))\n",
    "    \n",
    "    labels = [x for x in range(1,length(classes))]\n",
    "    \n",
    "    my_arr = [0 for x in range(1, length(y))]\n",
    "    \n",
    "    for (id ,val) in enumerate(y)\n",
    "        for (idx, class) in enumerate(classes)\n",
    "            if val == class\n",
    "                my_arr[id] = idx\n",
    "            end\n",
    "        end\n",
    "    end\n",
    "    return(my_arr)\n",
    "end"
   ]
  },
  {
   "cell_type": "code",
   "execution_count": 7,
   "metadata": {},
   "outputs": [
    {
     "data": {
      "text/plain": [
       "_solve_lsqr (generic function with 2 methods)"
      ]
     },
     "execution_count": 7,
     "metadata": {},
     "output_type": "execute_result"
    }
   ],
   "source": [
    "# _solve_lsqr\n",
    "```\n",
    "    Computes a straightforward solution of the optimal decision rule based directly on the discriminant functions.\n",
    "       using formula\n",
    "    coef_ = inv\"(sigma)\"\"*\"_class_Mean\n",
    "    \n",
    "    Note: dimensionality reduction is not supported with this solver\n",
    "    \n",
    "    input: \n",
    "    X : Predictor matrix \n",
    "    y: target values \n",
    "    priors: class priors\n",
    "        \n",
    "    output:\n",
    "    coef_ : coefficient of discriminant functions\n",
    "    intercept_ :  intercept of discriminant functions\n",
    "    \n",
    "    \n",
    "```\n",
    "\n",
    "\n",
    "function _solve_lsqr(X,y , priors::Union{Vector, Nothing}=nothing)\n",
    "    if priors !== nothing\n",
    "        @assert round(sum(priors); digits=4) == 1\n",
    "    end\n",
    "    \n",
    "    if priors === nothing \n",
    "        priors = _priors(X,y)\n",
    "    end\n",
    "    \n",
    "    mean_ = _class_Mean(X,y)\n",
    "    cov_ = _class_cov(X , y, priors)\n",
    "    ln_priors = [log(prior) for prior in priors]\n",
    "    \n",
    "    coef_ = inv(cov_)*mean_\n",
    "    intercept_ =  -0.5 * diag(transpose(mean_)*coef_) + ln_priors\n",
    "    \n",
    "    return(Dict(\"coef\" => coef_, \"intercept\" => intercept_))\n",
    "end"
   ]
  },
  {
   "cell_type": "code",
   "execution_count": 8,
   "metadata": {},
   "outputs": [
    {
     "data": {
      "text/plain": [
       "_solve_eigen (generic function with 2 methods)"
      ]
     },
     "execution_count": 8,
     "metadata": {},
     "output_type": "execute_result"
    }
   ],
   "source": [
    "\n",
    "function _solve_eigen(X,y ,priors::Union{Vector, Nothing}=nothing )\n",
    "\n",
    "```\n",
    "    Computes the optimal solution of the Rayleigh coefficient\"(J(W))\", \"(basically the ratio of \n",
    "    between class scatter to within class scatter)\" \n",
    "    \"J(W) = \\frac{W.T*Sb*W}{W.T*Sw*W}\"\n",
    "    \n",
    "    This solver supports both classification and dimensionality reduction\n",
    "    \n",
    "    input: \n",
    "    X : Predictor matrix \n",
    "    y: target values \n",
    "    priors: class priors\n",
    "        \n",
    "    output:\n",
    "    coef_ : coefficient of discriminant functions\n",
    "    intercept_ :  intercept of discriminant functions\n",
    "       \n",
    "```\n",
    "    \n",
    "    if priors !== nothing\n",
    "        @assert round(sum(priors); digits=4) == 1\n",
    "    end\n",
    "    \n",
    "    if priors === nothing \n",
    "        priors = _priors(X,y)\n",
    "    end\n",
    "    \n",
    "    mean_ = _class_Mean(X,y)\n",
    "    cov_ = _class_cov(X , y, priors)\n",
    "    ln_priors = [log(prior) for prior in priors]\n",
    "    \n",
    "    Sw = cov_  # within scatter\n",
    "    St = cov(Matrix(X))  # total scatter\n",
    "    Sb = St - Sw\n",
    "    \n",
    "    evals , evecs = eigen(Sb, Sw)\n",
    "    \n",
    "    coef_ = (transpose(mean_)*evecs)*transpose(evecs)\n",
    "    intercept_ =  -0.5 * diag(transpose(mean_)*transpose(coef_)) + ln_priors\n",
    "    \n",
    "    return(Dict(\"coef\" => coef_, \"intercept\" => intercept_))\n",
    "end"
   ]
  },
  {
   "cell_type": "code",
   "execution_count": 9,
   "metadata": {},
   "outputs": [
    {
     "data": {
      "text/plain": [
       "_solve_SVD (generic function with 2 methods)"
      ]
     },
     "execution_count": 9,
     "metadata": {},
     "output_type": "execute_result"
    }
   ],
   "source": [
    "function _solve_SVD(X,y , tol ,priors::Union{Vector, Nothing}=nothing)\n",
    "```\n",
    "    SVD solver\n",
    "    \n",
    "    This solver supports both classification and dimensionality reduction\n",
    "    \n",
    "    input: \n",
    "    X : Predictor matrix \n",
    "    y: target values \n",
    "    tol: tolerance value for cut-off eigen value of diag matrix of SVD \n",
    "    priors: class priors\n",
    "    \n",
    "    output:\n",
    "    pramas:\n",
    "        intercept: intercept values of discriminant functions \n",
    "        coef: coef of discriminant functions\n",
    "        rank: rank \n",
    "        scalings: transformation matrix\"(W)\"\n",
    "    \n",
    "    \n",
    "```\n",
    "    \n",
    "    if priors !== nothing\n",
    "        @assert round(sum(priors); digits=4) == 1\n",
    "    end\n",
    "    \n",
    "    if priors === nothing \n",
    "        priors = _priors(X,y)\n",
    "    end\n",
    "    \n",
    "    n_samples = size(X)[1]\n",
    "    classes = sort(unique(y))\n",
    "    mean_ = _class_Mean(X,y)\n",
    "    cov_ = _class_cov(X , y, priors)\n",
    "    ln_priors = [log(prior) for prior in priors]\n",
    "\n",
    "\n",
    "    Xc = []\n",
    "    for (idx, group) in enumerate(classes)\n",
    "        Xg = X[y .== group, :]\n",
    "        Xg_mean = broadcast(- , Xg , transpose(mean_[:,idx]))\n",
    "        push!(Xc , Matrix(Xg_mean))\n",
    "    end \n",
    "\n",
    "    xbar_ = mean_col(X)\n",
    "\n",
    "    Xc = vcat(Xc...)\n",
    "\n",
    "    std_ =  std(Xc , dims=1)\n",
    "    std_[std_.==0] .= 1\n",
    "\n",
    "    fac = 1.0 / (size(X)[1] - length(classes))\n",
    "\n",
    "    X_temp = sqrt(fac)*broadcast(/, Xc , std_)\n",
    "\n",
    "    U, S, Vt = svd(X_temp)\n",
    "\n",
    "    S_diag = S[S.>=tol]\n",
    "    rank = length(S_diag)\n",
    "    scalings_temp = broadcast(/, Vt[:, 1:rank] , transpose(std_))\n",
    "    scalings = broadcast(/, scalings_temp , transpose(S[1:rank]))\n",
    "\n",
    "    n_classes = length(classes)\n",
    "    fac_2 = ifelse.( n_classes==1 , 1, 1/(n_classes-1))\n",
    "    temp_1 = [sqrt(val) for val in (n_samples * priors *fac_2) ]\n",
    "    temp_2 = broadcast(-, mean_ , xbar_)\n",
    "    temp_3 = broadcast(* , transpose(temp_2) , temp_1)\n",
    "\n",
    "    X_new = temp_3*scalings\n",
    "\n",
    "    U, S, Vt = svd(X_new, full=false)\n",
    "\n",
    "    rank = length(S[S.>=tol])\n",
    "    scalings_ = scalings*Vt[:, 1:rank]\n",
    "\n",
    "    coef = transpose(temp_2)*scalings_\n",
    "\n",
    "    intercept_ = (-0.5)*sum(coef.*coef , dims=2) + ln_priors\n",
    "    coef_ = coef*transpose(scalings_)\n",
    "    intercept_ = intercept_ - coef_*xbar_\n",
    "    \n",
    "    \n",
    "    if length(classes) ==2\n",
    "        coef_ = coef_[2,:] - coef_[1,:]\n",
    "        intercept_ = intercept_[2] -  intercept_[1]\n",
    "    end\n",
    "    \n",
    "    params = Dict(\"intercept\" => intercept_ , \"coef\" => coef_, \"rank\" => rank, \"scalings\" => scalings_)\n",
    "\n",
    "    return(params)\n",
    "end\n",
    "\n",
    "\n",
    "\n"
   ]
  },
  {
   "cell_type": "code",
   "execution_count": 10,
   "metadata": {},
   "outputs": [
    {
     "data": {
      "text/plain": [
       "_solve_moment (generic function with 2 methods)"
      ]
     },
     "execution_count": 10,
     "metadata": {},
     "output_type": "execute_result"
    }
   ],
   "source": [
    "\n",
    "\n",
    "function _solve_moment(X,y , tol ,priors::Union{Vector, Nothing}=nothing)\n",
    "\n",
    "```\n",
    "    SVD solver, uses standard estimators of the mean and variance \"(replicating R's solution)\"\n",
    "    \n",
    "    This solver supports both classification and dimensionality reduction\n",
    "    \n",
    "    input: \n",
    "    X : Predictor matrix \n",
    "    y: target values \n",
    "    tol: tolerance value for cut-off eigen value of diag matrix of SVD \n",
    "    priors: class priors\n",
    "    \n",
    "    output:\n",
    "    pramas:\n",
    "        intercept: intercept values of discriminant functions \n",
    "        coef: coef of discriminant functions\n",
    "        rank: rank \n",
    "        scalings:  transformation matrix\"(W)\"\n",
    "```\n",
    "    \n",
    "    if priors !== nothing\n",
    "        @assert round(sum(priors); digits=4) == 1\n",
    "    end\n",
    "    \n",
    "    if priors === nothing \n",
    "        priors = _priors(X,y)\n",
    "    end\n",
    "    \n",
    "    n_samples = size(X)[1]\n",
    "    classes = sort(unique(y))\n",
    "    mean_ = _class_Mean(X,y)\n",
    "    cov_ = _class_cov(X , y, priors)\n",
    "    ln_priors = [log(prior) for prior in priors]\n",
    "\n",
    "    Xc = []\n",
    "    for (idx, group) in enumerate(classes)\n",
    "        Xg = X[y .== group, :]\n",
    "        Xg_mean = broadcast(- , Xg , transpose(mean_[:,idx]))\n",
    "        push!(Xc , Matrix(Xg_mean))\n",
    "    end\n",
    "\n",
    "    xbar_ = mean_col(X)\n",
    "\n",
    "    Xc = vcat(Xc...)\n",
    "\n",
    "    std_ =  std(Xc , dims=1)\n",
    "    std_[std_.==0] .= 1\n",
    "\n",
    "    fac = 1.0 / (size(X)[1] - length(classes))\n",
    "    X_temp = sqrt(fac)*broadcast(/, Xc , std_)\n",
    "    \n",
    "    \n",
    "    U, S, Vt = svd(X_temp)\n",
    "    S_diag = S[S.>=tol]\n",
    "    rank = length(S_diag)\n",
    "    scalings_temp = broadcast(/, Vt[:, 1:rank] , transpose(std_))\n",
    "    scalings = broadcast(/, scalings_temp , transpose(S[1:rank]))\n",
    "\n",
    "    n_classes = length(classes)\n",
    "    fac_2 = ifelse.( n_classes==1 , 1, 1/(n_classes-1))\n",
    "\n",
    "    temp_1 = [sqrt(val) for val in (n_samples * priors *fac_2) ]\n",
    "    temp_2 = broadcast(-, mean_ , xbar_)\n",
    "    temp_3 = broadcast(* , transpose(temp_2) , temp_1)\n",
    "\n",
    "    X_new = temp_3*scalings\n",
    "\n",
    "    U, S, Vt = svd(X_new, full=false)\n",
    "    rank  = length(S[S.>=tol])\n",
    "    scalings_ = scalings*Vt[:, 1:rank]\n",
    "    intercept_temp_1 = transpose(temp_2)*scalings_\n",
    "    intercept_ = (-0.5)*sum(intercept_temp_1.*intercept_temp_1 , dims=2) + ln_priors\n",
    "    intercept_temp_2 = intercept_temp_1*transpose(scalings_)\n",
    "    intercept_ = intercept_ - intercept_temp_2*xbar_\n",
    "    params = Dict(\"intercept\" => intercept_ , \"coef\" => scalings_, \"rank\" => rank, \"scalings\" => scalings_)\n",
    "\n",
    "    return(params)\n",
    "end\n"
   ]
  },
  {
   "cell_type": "code",
   "execution_count": 11,
   "metadata": {},
   "outputs": [
    {
     "data": {
      "text/plain": [
       "fit_ (generic function with 2 methods)"
      ]
     },
     "execution_count": 11,
     "metadata": {},
     "output_type": "execute_result"
    }
   ],
   "source": [
    "function fit_(X, y , tol, method , priors::Union{Vector, Nothing}=nothing)\n",
    "\n",
    "```\n",
    "    applies LDA algo based on method given  \n",
    "    input: \n",
    "    X : Predictor matrix \n",
    "    y: target values \n",
    "    tol: tolerance value for cut-off eigen value of diag matrix of SVD \n",
    "    priors: class priors\n",
    "    method: method for evaluating coeff and intercept\n",
    "    \n",
    "    output:\n",
    "    pramas:\n",
    "        intercept: intercept values of discriminant functions \n",
    "        coef: coef of discriminant functions\n",
    "        rank: rank \n",
    "        scalings:  transformation matrix\"(W)\"\n",
    "```\n",
    "    if priors !== nothing\n",
    "        @assert round(sum(priors); digits=4) == 1\n",
    "    end\n",
    "    \n",
    "    if priors === nothing \n",
    "        priors = _priors(X,y)\n",
    "    end\n",
    "    \n",
    "    if method == \"SVD\"\n",
    "        return(_solve_SVD(X, y, tol ,priors))  \n",
    "        \n",
    "    elseif method == \"lsqr\"\n",
    "        return( _solve_lsqr(X,y , priors))\n",
    "    \n",
    "    elseif method == \"eigen\" || \"moment\"\n",
    "        return(_solve_eigen(X,y ,priors))\n",
    "    \n",
    "    end\n",
    "end\n",
    "    \n",
    "        \n",
    "        "
   ]
  },
  {
   "cell_type": "code",
   "execution_count": 12,
   "metadata": {},
   "outputs": [
    {
     "data": {
      "text/plain": [
       "decision_ (generic function with 2 methods)"
      ]
     },
     "execution_count": 12,
     "metadata": {},
     "output_type": "execute_result"
    }
   ],
   "source": [
    "function decision_(X , y ,tol, method , priors::Union{Vector, Nothing}=nothing)\n",
    "    \n",
    "```\n",
    "    Evaluate W^T*X + b  \n",
    "    \n",
    "    input: \n",
    "    X : Predictor matrix \n",
    "    y: target values \n",
    "    tol: tolerance value for cut-off eigen value of diag matrix of SVD \n",
    "    method: method for evaluating coeff and intercept\n",
    "    priors: class priors\n",
    "    \n",
    "    output:\n",
    "    score: W^T*X + b  matrix\n",
    "    \n",
    "```\n",
    "    \n",
    "    if priors !== nothing\n",
    "        @assert round(sum(priors); digits=4) == 1\n",
    "    end\n",
    "    \n",
    "    if priors === nothing \n",
    "        priors = _priors(X,y)\n",
    "    end\n",
    "    \n",
    "    \n",
    "        \n",
    "    model = fit_(X, y , tol, method , priors)\n",
    "    \n",
    "    coef_ = model[\"coef\"]\n",
    "    intercept_ = model[\"intercept\"]\n",
    "    \n",
    "    if length(priors) == 2\n",
    "        scores = broadcast(+, Matrix(X)*transpose(transpose(coef_)) , intercept_)\n",
    "    \n",
    "    else    \n",
    "        num_lines = length(coef_)\n",
    "        scores = broadcast(+ , transpose(Matrix(X)*transpose(coef_)) , intercept_)\n",
    "    end\n",
    "    return(scores)\n",
    "end   "
   ]
  },
  {
   "cell_type": "code",
   "execution_count": 13,
   "metadata": {},
   "outputs": [
    {
     "data": {
      "text/plain": [
       "minus_max (generic function with 1 method)"
      ]
     },
     "execution_count": 13,
     "metadata": {},
     "output_type": "execute_result"
    }
   ],
   "source": [
    "function minus_max(X)\n",
    "    \n",
    "    max_val = findmax(X, dims = 1)[1]\n",
    "    \n",
    "    for i in range(1, size(X)[2])\n",
    "        for j in range(1, size(X)[1])\n",
    "            X[j,i] = X[j,i] - max_val[i]\n",
    "        end\n",
    "    end\n",
    "    return(X)\n",
    "end\n",
    "    "
   ]
  },
  {
   "cell_type": "code",
   "execution_count": 14,
   "metadata": {},
   "outputs": [
    {
     "data": {
      "text/plain": [
       "softmax_ (generic function with 1 method)"
      ]
     },
     "execution_count": 14,
     "metadata": {},
     "output_type": "execute_result"
    }
   ],
   "source": [
    "function softmax_(score)\n",
    "    \n",
    "    score = minus_max(score)\n",
    "    \n",
    "    map_exp = map(exp , score)\n",
    "    sum_val = [sum(c) for c in eachcol(map_exp)]\n",
    "    \n",
    "    scores =  broadcast(/ , map_exp , transpose(sum_val) )\n",
    "    \n",
    "    return(scores)\n",
    "    \n",
    "end"
   ]
  },
  {
   "cell_type": "code",
   "execution_count": 63,
   "metadata": {},
   "outputs": [
    {
     "data": {
      "text/plain": [
       "predictProba (generic function with 2 methods)"
      ]
     },
     "execution_count": 63,
     "metadata": {},
     "output_type": "execute_result"
    }
   ],
   "source": [
    "function predictProba(X,y, model, tol ,priors::Union{Vector, Nothing}=nothing)\n",
    "    \n",
    "    if priors !== nothing\n",
    "        @assert round(sum(priors); digits=4) == 1\n",
    "    end\n",
    "    \n",
    "    if priors === nothing \n",
    "        priors = _priors(X,y)\n",
    "    end\n",
    "    \n",
    "    if length(priors) ==2\n",
    "        \n",
    "        scores = decision_(X , y ,tol, method , priors)\n",
    "\n",
    "        return([(1/(1+exp(-x)), 1- (1/(1+exp(-x)))) for x in scores])\n",
    "        \n",
    "    else\n",
    "        score = decision_(X , y ,tol, method , priors)\n",
    "        \n",
    "        return(softmax_(score))\n",
    "    end\n",
    "end\n",
    "    "
   ]
  },
  {
   "cell_type": "code",
   "execution_count": 32,
   "metadata": {},
   "outputs": [
    {
     "data": {
      "text/plain": [
       "predictClass (generic function with 2 methods)"
      ]
     },
     "execution_count": 32,
     "metadata": {},
     "output_type": "execute_result"
    }
   ],
   "source": [
    "function predictClass(X,y, model, tol ,priors::Union{Vector, Nothing}=nothing)\n",
    "    \n",
    "    if priors !== nothing\n",
    "        @assert round(sum(priors); digits=4) == 1\n",
    "    end\n",
    "    \n",
    "    if priors === nothing \n",
    "        priors = _priors(X,y)\n",
    "    end\n",
    "    \n",
    "    scores = predictProba(X,y, model, tol ,priors)\n",
    "    \n",
    "    max_val = findmax(scores , dims =1 )\n",
    "    \n",
    "    classes = []\n",
    "    \n",
    "    if length(priors) == 2\n",
    "        \n",
    "        for i in range(1, size(X)[1])\n",
    "            if scores[i][1] > scores[i][2]\n",
    "                append!(classes, 1)\n",
    "            else\n",
    "                append!(classes, 2)\n",
    "            end\n",
    "        end\n",
    "        \n",
    "    elseif length(priors) > 2\n",
    "        for i in range(1, size(X)[1])\n",
    "            class = max_val[2][i][1]\n",
    "            append!(classes, class)\n",
    "        end\n",
    "    end \n",
    "    \n",
    "    if typeof(y[1]) == Int64\n",
    "        return(classes)\n",
    "    else\n",
    "        class_list = sort(unique(y))\n",
    "        classes_cat = [ class_list[i] for i in classes]\n",
    "        return(classes_cat)\n",
    "    end\n",
    "end\n",
    "    "
   ]
  },
  {
   "cell_type": "markdown",
   "metadata": {},
   "source": [
    "# Test\n",
    "\n",
    "### a) IRIS"
   ]
  },
  {
   "cell_type": "code",
   "execution_count": 16,
   "metadata": {},
   "outputs": [],
   "source": [
    "iris = dataset(\"datasets\", \"iris\")\n",
    "\n",
    "X = iris[:,1:4]\n",
    "\n",
    "labels = [0 for y in 1:150]\n",
    "for i = 1:size(iris, 1)\n",
    "    x = iris[:, 5][i]\n",
    "    if x == \"setosa\"\n",
    "        labels[i] = 1\n",
    "    elseif x == \"virginica\"\n",
    "        labels[i] = 2\n",
    "    else\n",
    "        labels[i] = 3\n",
    "    end\n",
    "end\n",
    "\n",
    "y = labels;"
   ]
  },
  {
   "cell_type": "code",
   "execution_count": 142,
   "metadata": {},
   "outputs": [
    {
     "data": {
      "text/plain": [
       "3-element Vector{Float64}:\n",
       "  -86.30846997367402\n",
       " -104.36831998644988\n",
       "  -72.85260740064221"
      ]
     },
     "execution_count": 142,
     "metadata": {},
     "output_type": "execute_result"
    }
   ],
   "source": [
    "params_ = _solve_eigen(X,y)\n",
    "params_[\"intercept\"]"
   ]
  },
  {
   "cell_type": "code",
   "execution_count": 143,
   "metadata": {},
   "outputs": [
    {
     "data": {
      "text/plain": [
       "3×4 Matrix{Float64}:\n",
       "  6.31476  12.1393   -16.9464   -20.7701\n",
       " -4.78356  -7.76327   12.2508    17.7075\n",
       " -1.5312   -4.37604    4.69567    3.06259"
      ]
     },
     "execution_count": 143,
     "metadata": {},
     "output_type": "execute_result"
    }
   ],
   "source": [
    "tol = 0.0001\n",
    "paramas_iris = _solve_SVD(X,y , tol)\n",
    "paramas_iris[\"coef\"]"
   ]
  },
  {
   "cell_type": "code",
   "execution_count": 14,
   "metadata": {},
   "outputs": [
    {
     "data": {
      "text/plain": [
       "BenchmarkTools.Trial: 8679 samples with 1 evaluation.\n",
       " Range \u001b[90m(\u001b[39m\u001b[36m\u001b[1mmin\u001b[22m\u001b[39m … \u001b[35mmax\u001b[39m\u001b[90m):  \u001b[39m\u001b[36m\u001b[1m344.229 μs\u001b[22m\u001b[39m … \u001b[35m 10.528 ms\u001b[39m  \u001b[90m┊\u001b[39m GC \u001b[90m(\u001b[39mmin … max\u001b[90m): \u001b[39m0.00% … 85.00%\n",
       " Time  \u001b[90m(\u001b[39m\u001b[34m\u001b[1mmedian\u001b[22m\u001b[39m\u001b[90m):     \u001b[39m\u001b[34m\u001b[1m449.235 μs               \u001b[22m\u001b[39m\u001b[90m┊\u001b[39m GC \u001b[90m(\u001b[39mmedian\u001b[90m):    \u001b[39m0.00%\n",
       " Time  \u001b[90m(\u001b[39m\u001b[32m\u001b[1mmean\u001b[22m\u001b[39m ± \u001b[32mσ\u001b[39m\u001b[90m):   \u001b[39m\u001b[32m\u001b[1m565.786 μs\u001b[22m\u001b[39m ± \u001b[32m504.434 μs\u001b[39m  \u001b[90m┊\u001b[39m GC \u001b[90m(\u001b[39mmean ± σ\u001b[90m):  \u001b[39m4.72% ±  5.60%\n",
       "\n",
       "  \u001b[39m█\u001b[39m█\u001b[39m▂\u001b[39m \u001b[39m \u001b[39m \u001b[34m \u001b[39m\u001b[39m \u001b[39m \u001b[39m \u001b[39m \u001b[39m \u001b[32m \u001b[39m\u001b[39m \u001b[39m \u001b[39m \u001b[39m \u001b[39m \u001b[39m \u001b[39m \u001b[39m \u001b[39m \u001b[39m \u001b[39m \u001b[39m \u001b[39m \u001b[39m \u001b[39m \u001b[39m \u001b[39m \u001b[39m \u001b[39m \u001b[39m \u001b[39m \u001b[39m \u001b[39m \u001b[39m \u001b[39m \u001b[39m \u001b[39m \u001b[39m \u001b[39m \u001b[39m \u001b[39m \u001b[39m \u001b[39m \u001b[39m \u001b[39m \u001b[39m \u001b[39m \u001b[39m \u001b[39m \u001b[39m \u001b[39m \u001b[39m \u001b[39m \u001b[39m \u001b[39m \u001b[39m \u001b[39m \u001b[39m \u001b[39m \u001b[39m \n",
       "  \u001b[39m█\u001b[39m█\u001b[39m█\u001b[39m▇\u001b[39m▅\u001b[39m▄\u001b[34m▃\u001b[39m\u001b[39m▃\u001b[39m▃\u001b[39m▃\u001b[39m▃\u001b[39m▂\u001b[32m▂\u001b[39m\u001b[39m▂\u001b[39m▄\u001b[39m▃\u001b[39m▃\u001b[39m▅\u001b[39m▆\u001b[39m▅\u001b[39m▄\u001b[39m▃\u001b[39m▃\u001b[39m▂\u001b[39m▂\u001b[39m▂\u001b[39m▂\u001b[39m▁\u001b[39m▂\u001b[39m▂\u001b[39m▂\u001b[39m▁\u001b[39m▁\u001b[39m▁\u001b[39m▁\u001b[39m▁\u001b[39m▁\u001b[39m▁\u001b[39m▁\u001b[39m▁\u001b[39m▁\u001b[39m▁\u001b[39m▁\u001b[39m▁\u001b[39m▁\u001b[39m▁\u001b[39m▁\u001b[39m▁\u001b[39m▁\u001b[39m▁\u001b[39m▁\u001b[39m▁\u001b[39m▁\u001b[39m▁\u001b[39m▁\u001b[39m▁\u001b[39m▁\u001b[39m▁\u001b[39m▁\u001b[39m▁\u001b[39m▁\u001b[39m \u001b[39m▂\n",
       "  344 μs\u001b[90m           Histogram: frequency by time\u001b[39m         1.44 ms \u001b[0m\u001b[1m<\u001b[22m\n",
       "\n",
       " Memory estimate\u001b[90m: \u001b[39m\u001b[33m208.69 KiB\u001b[39m, allocs estimate\u001b[90m: \u001b[39m\u001b[33m1178\u001b[39m."
      ]
     },
     "execution_count": 14,
     "metadata": {},
     "output_type": "execute_result"
    }
   ],
   "source": [
    "tol = 0.0001\n",
    "@benchmark pramas = _solve_SVD(X,y , tol)"
   ]
  },
  {
   "cell_type": "code",
   "execution_count": 59,
   "metadata": {},
   "outputs": [
    {
     "data": {
      "text/plain": [
       "4×3 Matrix{Float64}:\n",
       "  0.209815  -0.20457   -0.210479\n",
       "  0.403343  -0.331998  -0.601533\n",
       " -0.563065   0.523907   0.645468\n",
       " -0.690109   0.757265   0.420984"
      ]
     },
     "execution_count": 59,
     "metadata": {},
     "output_type": "execute_result"
    }
   ],
   "source": [
    "pramas = _solve_SVD(X,y , tol)\n",
    "proj = pramas[\"coef\"]\n",
    "\n",
    "make_normal(transpose(proj))"
   ]
  },
  {
   "cell_type": "markdown",
   "metadata": {},
   "source": [
    "# Python's result on IRIS LDA : \n",
    "### Coef_\n",
    "\n",
    "[[  6.31475846,  12.13931718, -16.94642465, -20.77005459],\n",
    "[ -1.53119919,  -4.37604348,   4.69566531,   3.06258539],\n",
    "[ -4.78355927,  -7.7632737 ,  12.25075935,  17.7074692 ]]"
   ]
  },
  {
   "cell_type": "code",
   "execution_count": 61,
   "metadata": {},
   "outputs": [
    {
     "data": {
      "text/plain": [
       "3×1 Matrix{Float64}:\n",
       " -15.477836726795022\n",
       " -33.53768673957079\n",
       "  -2.0219741537631464"
      ]
     },
     "execution_count": 61,
     "metadata": {},
     "output_type": "execute_result"
    }
   ],
   "source": [
    "pramas[\"intercept\"]"
   ]
  },
  {
   "cell_type": "markdown",
   "metadata": {},
   "source": [
    "### Intercept_\n",
    "[-15.47783673,  -2.02197415, -33.53768674]"
   ]
  },
  {
   "cell_type": "code",
   "execution_count": 65,
   "metadata": {},
   "outputs": [
    {
     "data": {
      "text/plain": [
       "4×2 Matrix{Float64}:\n",
       "  0.829378   0.0241021\n",
       "  1.53447    2.16452\n",
       " -2.20121   -0.931921\n",
       " -2.81046    2.83919"
      ]
     },
     "execution_count": 65,
     "metadata": {},
     "output_type": "execute_result"
    }
   ],
   "source": [
    "pramas[\"scalings\"]"
   ]
  },
  {
   "cell_type": "code",
   "execution_count": 17,
   "metadata": {},
   "outputs": [
    {
     "data": {
      "text/plain": [
       "BenchmarkTools.Trial: 8041 samples with 1 evaluation.\n",
       " Range \u001b[90m(\u001b[39m\u001b[36m\u001b[1mmin\u001b[22m\u001b[39m … \u001b[35mmax\u001b[39m\u001b[90m):  \u001b[39m\u001b[36m\u001b[1m352.914 μs\u001b[22m\u001b[39m … \u001b[35m 32.721 ms\u001b[39m  \u001b[90m┊\u001b[39m GC \u001b[90m(\u001b[39mmin … max\u001b[90m): \u001b[39m0.00% … 0.00%\n",
       " Time  \u001b[90m(\u001b[39m\u001b[34m\u001b[1mmedian\u001b[22m\u001b[39m\u001b[90m):     \u001b[39m\u001b[34m\u001b[1m562.925 μs               \u001b[22m\u001b[39m\u001b[90m┊\u001b[39m GC \u001b[90m(\u001b[39mmedian\u001b[90m):    \u001b[39m0.00%\n",
       " Time  \u001b[90m(\u001b[39m\u001b[32m\u001b[1mmean\u001b[22m\u001b[39m ± \u001b[32mσ\u001b[39m\u001b[90m):   \u001b[39m\u001b[32m\u001b[1m610.044 μs\u001b[22m\u001b[39m ± \u001b[32m714.985 μs\u001b[39m  \u001b[90m┊\u001b[39m GC \u001b[90m(\u001b[39mmean ± σ\u001b[90m):  \u001b[39m4.46% ± 5.73%\n",
       "\n",
       "  \u001b[39m█\u001b[39m▅\u001b[39m \u001b[39m \u001b[39m \u001b[39m \u001b[39m \u001b[39m \u001b[39m \u001b[39m \u001b[39m \u001b[34m \u001b[39m\u001b[39m \u001b[32m \u001b[39m\u001b[39m \u001b[39m \u001b[39m \u001b[39m \u001b[39m \u001b[39m \u001b[39m \u001b[39m \u001b[39m \u001b[39m \u001b[39m \u001b[39m \u001b[39m \u001b[39m \u001b[39m \u001b[39m \u001b[39m \u001b[39m \u001b[39m \u001b[39m \u001b[39m \u001b[39m \u001b[39m \u001b[39m \u001b[39m \u001b[39m \u001b[39m \u001b[39m \u001b[39m \u001b[39m \u001b[39m \u001b[39m \u001b[39m \u001b[39m \u001b[39m \u001b[39m \u001b[39m \u001b[39m \u001b[39m \u001b[39m \u001b[39m \u001b[39m \u001b[39m \u001b[39m \u001b[39m \u001b[39m \u001b[39m \u001b[39m \u001b[39m \n",
       "  \u001b[39m█\u001b[39m█\u001b[39m▆\u001b[39m▄\u001b[39m▃\u001b[39m▃\u001b[39m▃\u001b[39m▃\u001b[39m▃\u001b[39m▃\u001b[39m▃\u001b[34m▃\u001b[39m\u001b[39m▃\u001b[32m▆\u001b[39m\u001b[39m▄\u001b[39m▄\u001b[39m█\u001b[39m█\u001b[39m▅\u001b[39m▄\u001b[39m▃\u001b[39m▃\u001b[39m▃\u001b[39m▃\u001b[39m▂\u001b[39m▂\u001b[39m▂\u001b[39m▂\u001b[39m▂\u001b[39m▂\u001b[39m▂\u001b[39m▂\u001b[39m▂\u001b[39m▂\u001b[39m▂\u001b[39m▂\u001b[39m▂\u001b[39m▂\u001b[39m▂\u001b[39m▂\u001b[39m▂\u001b[39m▂\u001b[39m▂\u001b[39m▂\u001b[39m▂\u001b[39m▂\u001b[39m▂\u001b[39m▂\u001b[39m▂\u001b[39m▂\u001b[39m▂\u001b[39m▂\u001b[39m▂\u001b[39m▂\u001b[39m▂\u001b[39m▂\u001b[39m▂\u001b[39m▂\u001b[39m▁\u001b[39m▂\u001b[39m▂\u001b[39m \u001b[39m▃\n",
       "  353 μs\u001b[90m           Histogram: frequency by time\u001b[39m         1.56 ms \u001b[0m\u001b[1m<\u001b[22m\n",
       "\n",
       " Memory estimate\u001b[90m: \u001b[39m\u001b[33m229.44 KiB\u001b[39m, allocs estimate\u001b[90m: \u001b[39m\u001b[33m1223\u001b[39m."
      ]
     },
     "execution_count": 17,
     "metadata": {},
     "output_type": "execute_result"
    }
   ],
   "source": [
    "@benchmark p = _solve_moment(X,y , 0.0001)"
   ]
  },
  {
   "cell_type": "code",
   "execution_count": 18,
   "metadata": {},
   "outputs": [
    {
     "data": {
      "text/plain": [
       "4×2 Matrix{Float64}:\n",
       "  0.829378   0.0241021\n",
       "  1.53447    2.16452\n",
       " -2.20121   -0.931921\n",
       " -2.81046    2.83919"
      ]
     },
     "execution_count": 18,
     "metadata": {},
     "output_type": "execute_result"
    }
   ],
   "source": [
    "params_R_iris = _solve_moment(X,y ,\n",
    "    0.0001)\n",
    "params_R_iris[\"coef\"]"
   ]
  },
  {
   "cell_type": "code",
   "execution_count": 20,
   "metadata": {},
   "outputs": [
    {
     "data": {
      "text/plain": [
       "make_normal (generic function with 1 method)"
      ]
     },
     "execution_count": 20,
     "metadata": {},
     "output_type": "execute_result"
    }
   ],
   "source": [
    "function make_normal(X)\n",
    "    \n",
    "    temp = X.*X\n",
    "    temp = sum(temp , dims = 1)\n",
    "    temp = .√(temp)\n",
    "    temp = broadcast(/ , X , temp)\n",
    "    return(temp)\n",
    "end"
   ]
  },
  {
   "cell_type": "code",
   "execution_count": 21,
   "metadata": {},
   "outputs": [
    {
     "data": {
      "text/plain": [
       "4×2 Matrix{Float64}:\n",
       "  0.208742   0.00653196\n",
       "  0.386204   0.586611\n",
       " -0.554012  -0.252562\n",
       " -0.70735    0.769453"
      ]
     },
     "execution_count": 21,
     "metadata": {},
     "output_type": "execute_result"
    }
   ],
   "source": [
    "make_normal(proj)"
   ]
  },
  {
   "cell_type": "markdown",
   "metadata": {},
   "source": [
    "###  R's result on IRIS LDA\n",
    "\n",
    "Coefficients of linear discriminants:\n",
    "                    LD1         LD2\n",
    "Sepal.Length  0.8293776  0.02410215\n",
    "Sepal.Width   1.5344731  2.16452123\n",
    "Petal.Length -2.2012117 -0.93192121\n",
    "Petal.Width  -2.8104603  2.83918785\n"
   ]
  },
  {
   "cell_type": "markdown",
   "metadata": {},
   "source": [
    "## Penguin"
   ]
  },
  {
   "cell_type": "code",
   "execution_count": 22,
   "metadata": {},
   "outputs": [],
   "source": [
    "using CSV\n",
    "using DataFrames\n",
    "\n",
    "df = CSV.read(\"penguins_lter.csv\" , DataFrame)\n",
    "df = df[!,[\"Culmen Length (mm)\" , \"Culmen Depth (mm)\", \"Flipper Length (mm)\",\"Body Mass (g)\",\"Sex\" ]]\n",
    "df = dropmissing(df::AbstractDataFrame)\n",
    "y = df[!,\"Sex\"]\n",
    "labels = zeros(length(y))\n",
    "for (idx,sex) in enumerate(y)\n",
    "    if sex ==\"MALE\"\n",
    "        labels[idx] = 1\n",
    "    end\n",
    "end\n",
    "y = labels\n",
    "X = df[!,[\"Culmen Length (mm)\" , \"Culmen Depth (mm)\", \"Flipper Length (mm)\",\"Body Mass (g)\"]];\n"
   ]
  },
  {
   "cell_type": "code",
   "execution_count": 23,
   "metadata": {},
   "outputs": [],
   "source": [
    "df = CSV.read(\"file1.csv\" , DataFrame)\n",
    "\n",
    "X = df[!,[\"Culmen Length (mm)\" , \"Culmen Depth (mm)\", \"Flipper Length (mm)\",\"Body Mass (g)\"]]\n",
    "\n",
    "y = df[!,\"Species\"]\n",
    "labels = zeros(length(y))\n",
    "for (idx,specie) in enumerate(y)\n",
    "    if specie ==\"Adelie Penguin (Pygoscelis adeliae)\"\n",
    "        labels[idx] = 1\n",
    "    elseif specie == \"Gentoo penguin (Pygoscelis papua)\"\n",
    "        labels[idx] = 2\n",
    "    end\n",
    "end\n",
    "y = labels;\n"
   ]
  },
  {
   "cell_type": "code",
   "execution_count": 24,
   "metadata": {},
   "outputs": [
    {
     "data": {
      "text/plain": [
       "4×2 Matrix{Float64}:\n",
       "  0.0883267   -0.417871\n",
       " -1.0373      -0.0210049\n",
       "  0.0861628    0.0134747\n",
       "  0.00129952   0.00171144"
      ]
     },
     "execution_count": 24,
     "metadata": {},
     "output_type": "execute_result"
    }
   ],
   "source": [
    "params_R_penguin = _solve_moment(X,y,\n",
    "    0.0001 )\n",
    "params_R_penguin[\"coef\"]"
   ]
  },
  {
   "cell_type": "code",
   "execution_count": 25,
   "metadata": {},
   "outputs": [
    {
     "data": {
      "text/plain": [
       "4×2 Matrix{Float64}:\n",
       "  0.0883267   -0.417871\n",
       " -1.0373      -0.0210049\n",
       "  0.0861628    0.0134747\n",
       "  0.00129952   0.00171144"
      ]
     },
     "execution_count": 25,
     "metadata": {},
     "output_type": "execute_result"
    }
   ],
   "source": [
    "params_R_penguin[\"coef\"]"
   ]
  },
  {
   "cell_type": "markdown",
   "metadata": {},
   "source": [
    "\n",
    "4×2 Matrix{Float64}:\n",
    "  0.0820607   -0.998165\n",
    " -0.991605    -0.052959\n",
    "  0.0999184    0.0290805\n",
    "  0.00133546   0.00413342\n",
    "\n",
    "\n",
    "4×2 Matrix{Float64}:\n",
    "  0.084554    -0.998213\n",
    " -0.992998    -0.0501766\n",
    "  0.0824825    0.0321884\n",
    "  0.00124401   0.00408829\n",
    "\n",
    "\n",
    "Coefficients of linear discriminants:\n",
    "                            LD1          LD2\n",
    "Culmen.Length..mm.   0.08832666 -0.417870885\n",
    "Culmen.Depth..mm.   -1.03730494 -0.021004854\n",
    "Flipper.Length..mm.  0.08616282  0.013474680\n",
    "Body.Mass..g.        0.00129952  0.001711436\n",
    "\n",
    "\n",
    "Coefficients of linear discriminants:\n",
    "                            LD1          LD2\n",
    "Culmen.Length..mm.   0.08832666 -0.417870885\n",
    "Culmen.Depth..mm.   -1.03730494 -0.021004854\n",
    "Flipper.Length..mm.  0.08616282  0.013474680\n",
    "Body.Mass..g.        0.00129952  0.001711436\n",
    "\n"
   ]
  },
  {
   "cell_type": "code",
   "execution_count": 28,
   "metadata": {},
   "outputs": [
    {
     "data": {
      "text/plain": [
       "Dict{String, Any} with 4 entries:\n",
       "  \"rank\"      => 2\n",
       "  \"intercept\" => [-16.7292; 32.1089; -56.9873;;]\n",
       "  \"coef\"      => [0.0883267 -0.417871; -1.0373 -0.0210049; 0.0861628 0.0134747;…\n",
       "  \"scalings\"  => [0.0883267 -0.417871; -1.0373 -0.0210049; 0.0861628 0.0134747;…"
      ]
     },
     "execution_count": 28,
     "metadata": {},
     "output_type": "execute_result"
    }
   ],
   "source": [
    "params_R = _solve_moment(X,y , 0.0001 )"
   ]
  },
  {
   "cell_type": "markdown",
   "metadata": {},
   "source": [
    "##  R's result on PENGUIN LDA\n",
    "\n",
    "Coefficients of linear discriminants:\n",
    "                           LD1\n",
    "bill_length_mm     0.036231765\n",
    "bill_depth_mm      0.751144512\n",
    "flipper_length_mm -0.005785753\n",
    "body_mass_g        0.001889799"
   ]
  },
  {
   "cell_type": "code",
   "execution_count": 29,
   "metadata": {},
   "outputs": [
    {
     "data": {
      "text/plain": [
       "3×4 Matrix{Float64}:\n",
       "  1.06215    2.06466  -0.206102  -0.00755752\n",
       " -0.755773   3.38789  -0.268351  -0.0023679\n",
       "  0.340615  -5.30055   0.443381   0.00708508"
      ]
     },
     "execution_count": 29,
     "metadata": {},
     "output_type": "execute_result"
    }
   ],
   "source": [
    "tol = 0.0001\n",
    "pramas_py_penguin = _solve_SVD(X,y , tol)\n",
    "pramas_py_penguin[\"coef\"]"
   ]
  },
  {
   "cell_type": "markdown",
   "metadata": {},
   "source": [
    "## Python's ouptut\n",
    "array([[ 1.06214785e+00,  2.06466324e+00, -2.06101568e-01,\n",
    "        -7.55752064e-03],\n",
    "       [-7.55773193e-01,  3.38788801e+00, -2.68350550e-01,\n",
    "        -2.36789997e-03],\n",
    "       [ 3.40615434e-01, -5.30055439e+00,  4.43380810e-01,\n",
    "         7.08507560e-03]])"
   ]
  },
  {
   "cell_type": "code",
   "execution_count": 115,
   "metadata": {},
   "outputs": [],
   "source": [
    "df = CSV.read(\"file2.csv\" , DataFrame)\n",
    "\n",
    "X = df[!,[\"Culmen Length (mm)\" , \"Culmen Depth (mm)\", \"Flipper Length (mm)\",\"Body Mass (g)\"]]\n",
    "\n",
    "y = df[!,\"Sex\"]\n",
    "\n",
    "labels = zeros(length(y))\n",
    "for (idx,sex) in enumerate(y)\n",
    "    if sex ==\"MALE\"\n",
    "        labels[idx] = 1\n",
    "    end\n",
    "end\n",
    "y = labels;\n"
   ]
  },
  {
   "cell_type": "code",
   "execution_count": 33,
   "metadata": {},
   "outputs": [
    {
     "data": {
      "text/plain": [
       "BenchmarkTools.Trial: 8181 samples with 1 evaluation.\n",
       " Range \u001b[90m(\u001b[39m\u001b[36m\u001b[1mmin\u001b[22m\u001b[39m … \u001b[35mmax\u001b[39m\u001b[90m):  \u001b[39m\u001b[36m\u001b[1m374.626 μs\u001b[22m\u001b[39m … \u001b[35m 30.925 ms\u001b[39m  \u001b[90m┊\u001b[39m GC \u001b[90m(\u001b[39mmin … max\u001b[90m): \u001b[39m0.00% … 0.00%\n",
       " Time  \u001b[90m(\u001b[39m\u001b[34m\u001b[1mmedian\u001b[22m\u001b[39m\u001b[90m):     \u001b[39m\u001b[34m\u001b[1m451.998 μs               \u001b[22m\u001b[39m\u001b[90m┊\u001b[39m GC \u001b[90m(\u001b[39mmedian\u001b[90m):    \u001b[39m0.00%\n",
       " Time  \u001b[90m(\u001b[39m\u001b[32m\u001b[1mmean\u001b[22m\u001b[39m ± \u001b[32mσ\u001b[39m\u001b[90m):   \u001b[39m\u001b[32m\u001b[1m601.898 μs\u001b[22m\u001b[39m ± \u001b[32m992.726 μs\u001b[39m  \u001b[90m┊\u001b[39m GC \u001b[90m(\u001b[39mmean ± σ\u001b[90m):  \u001b[39m7.28% ± 6.89%\n",
       "\n",
       "  \u001b[39m█\u001b[39m▇\u001b[39m▆\u001b[39m▆\u001b[34m▆\u001b[39m\u001b[39m▅\u001b[39m▅\u001b[39m▄\u001b[39m▃\u001b[39m▃\u001b[39m▃\u001b[39m▃\u001b[32m▃\u001b[39m\u001b[39m▃\u001b[39m▃\u001b[39m▃\u001b[39m▃\u001b[39m▃\u001b[39m▂\u001b[39m▃\u001b[39m▂\u001b[39m▂\u001b[39m▂\u001b[39m▂\u001b[39m▁\u001b[39m▂\u001b[39m▁\u001b[39m▁\u001b[39m▁\u001b[39m▁\u001b[39m▁\u001b[39m \u001b[39m \u001b[39m \u001b[39m \u001b[39m \u001b[39m \u001b[39m \u001b[39m \u001b[39m \u001b[39m \u001b[39m \u001b[39m \u001b[39m \u001b[39m \u001b[39m \u001b[39m \u001b[39m \u001b[39m \u001b[39m \u001b[39m \u001b[39m \u001b[39m \u001b[39m \u001b[39m \u001b[39m \u001b[39m \u001b[39m \u001b[39m \u001b[39m \u001b[39m \u001b[39m \u001b[39m▂\n",
       "  \u001b[39m█\u001b[39m█\u001b[39m█\u001b[39m█\u001b[34m█\u001b[39m\u001b[39m█\u001b[39m█\u001b[39m█\u001b[39m█\u001b[39m█\u001b[39m█\u001b[39m█\u001b[32m█\u001b[39m\u001b[39m█\u001b[39m█\u001b[39m█\u001b[39m█\u001b[39m█\u001b[39m█\u001b[39m█\u001b[39m█\u001b[39m█\u001b[39m█\u001b[39m█\u001b[39m█\u001b[39m█\u001b[39m█\u001b[39m█\u001b[39m█\u001b[39m█\u001b[39m█\u001b[39m█\u001b[39m█\u001b[39m█\u001b[39m▇\u001b[39m▇\u001b[39m█\u001b[39m▇\u001b[39m▇\u001b[39m▆\u001b[39m▆\u001b[39m▇\u001b[39m▆\u001b[39m▆\u001b[39m▅\u001b[39m▅\u001b[39m▅\u001b[39m▆\u001b[39m▅\u001b[39m▅\u001b[39m▅\u001b[39m▄\u001b[39m▃\u001b[39m▅\u001b[39m▁\u001b[39m▅\u001b[39m▅\u001b[39m▃\u001b[39m▁\u001b[39m▁\u001b[39m▄\u001b[39m \u001b[39m█\n",
       "  375 μs\u001b[90m        \u001b[39m\u001b[90mHistogram: \u001b[39m\u001b[90m\u001b[1mlog(\u001b[22m\u001b[39m\u001b[90mfrequency\u001b[39m\u001b[90m\u001b[1m)\u001b[22m\u001b[39m\u001b[90m by time\u001b[39m       1.58 ms \u001b[0m\u001b[1m<\u001b[22m\n",
       "\n",
       " Memory estimate\u001b[90m: \u001b[39m\u001b[33m316.94 KiB\u001b[39m, allocs estimate\u001b[90m: \u001b[39m\u001b[33m997\u001b[39m."
      ]
     },
     "execution_count": 33,
     "metadata": {},
     "output_type": "execute_result"
    }
   ],
   "source": [
    "#params = _solve_SVD(X,y , 0.0001 )\n",
    "\n",
    "@benchmark pramas = _solve_SVD(X,y , tol)"
   ]
  },
  {
   "cell_type": "code",
   "execution_count": 118,
   "metadata": {},
   "outputs": [
    {
     "data": {
      "text/plain": [
       "4-element Vector{Float64}:\n",
       "  0.09300704575251453\n",
       "  1.8569412293410679\n",
       " -0.0172074752474619\n",
       "  0.004687819990745008"
      ]
     },
     "execution_count": 118,
     "metadata": {},
     "output_type": "execute_result"
    }
   ],
   "source": [
    "params_ = _solve_SVD(X,y , tol)\n",
    "params_[\"coef\"]"
   ]
  },
  {
   "cell_type": "code",
   "execution_count": 123,
   "metadata": {},
   "outputs": [
    {
     "data": {
      "text/plain": [
       "4×1 Matrix{Float64}:\n",
       "  0.037558817726336936\n",
       "  0.749884232931413\n",
       " -0.006948854477859845\n",
       "  0.0018930713812239334"
      ]
     },
     "execution_count": 123,
     "metadata": {},
     "output_type": "execute_result"
    }
   ],
   "source": [
    "params_[\"scalings\"]"
   ]
  },
  {
   "cell_type": "markdown",
   "metadata": {},
   "source": [
    "## Python's  result on Penguins LDA\n",
    "\n",
    "### Coef_\n",
    "\n",
    "array([[ 0.09300705,  1.85694123, -0.01720748,  0.00468782]])"
   ]
  },
  {
   "cell_type": "code",
   "execution_count": 120,
   "metadata": {},
   "outputs": [
    {
     "data": {
      "text/plain": [
       "-52.199787156462286"
      ]
     },
     "execution_count": 120,
     "metadata": {},
     "output_type": "execute_result"
    }
   ],
   "source": [
    "params_[\"intercept\"]"
   ]
  },
  {
   "cell_type": "markdown",
   "metadata": {},
   "source": [
    "### intercept_\n",
    "\n",
    "array([52.19978716])"
   ]
  },
  {
   "cell_type": "code",
   "execution_count": 124,
   "metadata": {},
   "outputs": [
    {
     "data": {
      "text/plain": [
       "4×1 Matrix{Float64}:\n",
       "  0.037558817726336936\n",
       "  0.749884232931413\n",
       " -0.006948854477859845\n",
       "  0.0018930713812239334"
      ]
     },
     "execution_count": 124,
     "metadata": {},
     "output_type": "execute_result"
    }
   ],
   "source": [
    "params_R = _solve_moment(X,y , tol)\n",
    "\n",
    "params_R[\"coef\"]\n",
    "params_R[\"intercept\"]"
   ]
  },
  {
   "cell_type": "markdown",
   "metadata": {},
   "source": [
    "## MPG"
   ]
  },
  {
   "cell_type": "code",
   "execution_count": 128,
   "metadata": {},
   "outputs": [],
   "source": [
    "mpg = dataset(\"ggplot2\", \"mpg\")\n",
    "\n",
    "X = mpg[!,[\"Displ\", \"Cyl\"]]\n",
    "y = _make_cat(mpg[!,\"Drv\"]);\n"
   ]
  },
  {
   "cell_type": "code",
   "execution_count": 38,
   "metadata": {},
   "outputs": [
    {
     "data": {
      "text/plain": [
       "BenchmarkTools.Trial: 10000 samples with 1 evaluation.\n",
       " Range \u001b[90m(\u001b[39m\u001b[36m\u001b[1mmin\u001b[22m\u001b[39m … \u001b[35mmax\u001b[39m\u001b[90m):  \u001b[39m\u001b[36m\u001b[1m316.201 μs\u001b[22m\u001b[39m … \u001b[35m 14.424 ms\u001b[39m  \u001b[90m┊\u001b[39m GC \u001b[90m(\u001b[39mmin … max\u001b[90m): \u001b[39m0.00% … 89.60%\n",
       " Time  \u001b[90m(\u001b[39m\u001b[34m\u001b[1mmedian\u001b[22m\u001b[39m\u001b[90m):     \u001b[39m\u001b[34m\u001b[1m334.360 μs               \u001b[22m\u001b[39m\u001b[90m┊\u001b[39m GC \u001b[90m(\u001b[39mmedian\u001b[90m):    \u001b[39m0.00%\n",
       " Time  \u001b[90m(\u001b[39m\u001b[32m\u001b[1mmean\u001b[22m\u001b[39m ± \u001b[32mσ\u001b[39m\u001b[90m):   \u001b[39m\u001b[32m\u001b[1m412.194 μs\u001b[22m\u001b[39m ± \u001b[32m434.863 μs\u001b[39m  \u001b[90m┊\u001b[39m GC \u001b[90m(\u001b[39mmean ± σ\u001b[90m):  \u001b[39m5.57% ±  5.57%\n",
       "\n",
       "  \u001b[39m█\u001b[34m█\u001b[39m\u001b[39m▅\u001b[39m▄\u001b[39m▃\u001b[39m▃\u001b[39m▃\u001b[32m▃\u001b[39m\u001b[39m▂\u001b[39m▁\u001b[39m▁\u001b[39m▁\u001b[39m▁\u001b[39m▁\u001b[39m▁\u001b[39m▂\u001b[39m▁\u001b[39m▂\u001b[39m▂\u001b[39m▂\u001b[39m▁\u001b[39m▁\u001b[39m▁\u001b[39m▁\u001b[39m \u001b[39m \u001b[39m \u001b[39m \u001b[39m \u001b[39m \u001b[39m \u001b[39m \u001b[39m \u001b[39m \u001b[39m \u001b[39m \u001b[39m \u001b[39m \u001b[39m \u001b[39m \u001b[39m \u001b[39m \u001b[39m \u001b[39m \u001b[39m \u001b[39m \u001b[39m \u001b[39m \u001b[39m \u001b[39m \u001b[39m \u001b[39m \u001b[39m \u001b[39m \u001b[39m \u001b[39m \u001b[39m \u001b[39m \u001b[39m \u001b[39m \u001b[39m \u001b[39m \u001b[39m▂\n",
       "  \u001b[39m█\u001b[34m█\u001b[39m\u001b[39m█\u001b[39m█\u001b[39m█\u001b[39m█\u001b[39m█\u001b[32m█\u001b[39m\u001b[39m█\u001b[39m█\u001b[39m█\u001b[39m█\u001b[39m█\u001b[39m█\u001b[39m█\u001b[39m█\u001b[39m█\u001b[39m█\u001b[39m█\u001b[39m█\u001b[39m█\u001b[39m█\u001b[39m█\u001b[39m█\u001b[39m█\u001b[39m█\u001b[39m▇\u001b[39m▇\u001b[39m▇\u001b[39m▇\u001b[39m▇\u001b[39m▆\u001b[39m▇\u001b[39m▆\u001b[39m▆\u001b[39m▅\u001b[39m▆\u001b[39m▅\u001b[39m▅\u001b[39m▆\u001b[39m▅\u001b[39m▅\u001b[39m▅\u001b[39m▅\u001b[39m▆\u001b[39m▆\u001b[39m▅\u001b[39m▆\u001b[39m▄\u001b[39m▆\u001b[39m▆\u001b[39m▄\u001b[39m▄\u001b[39m▅\u001b[39m▅\u001b[39m▄\u001b[39m▄\u001b[39m▄\u001b[39m▁\u001b[39m▄\u001b[39m▅\u001b[39m \u001b[39m█\n",
       "  316 μs\u001b[90m        \u001b[39m\u001b[90mHistogram: \u001b[39m\u001b[90m\u001b[1mlog(\u001b[22m\u001b[39m\u001b[90mfrequency\u001b[39m\u001b[90m\u001b[1m)\u001b[22m\u001b[39m\u001b[90m by time\u001b[39m       1.17 ms \u001b[0m\u001b[1m<\u001b[22m\n",
       "\n",
       " Memory estimate\u001b[90m: \u001b[39m\u001b[33m208.50 KiB\u001b[39m, allocs estimate\u001b[90m: \u001b[39m\u001b[33m1083\u001b[39m."
      ]
     },
     "execution_count": 38,
     "metadata": {},
     "output_type": "execute_result"
    }
   ],
   "source": [
    "@benchmark pramas_mpg = _solve_moment(X,y , 0.0000001 )"
   ]
  },
  {
   "cell_type": "code",
   "execution_count": 55,
   "metadata": {},
   "outputs": [
    {
     "data": {
      "text/plain": [
       "3×1 Matrix{Float64}:\n",
       " -2.85861697736825\n",
       "  1.798512608315058\n",
       " -9.46405045559477"
      ]
     },
     "execution_count": 55,
     "metadata": {},
     "output_type": "execute_result"
    }
   ],
   "source": [
    "pramas_mpg = _solve_moment(X,y , 0.0000001 )\n",
    "pramas_mpg[\"intercept\"]"
   ]
  },
  {
   "cell_type": "markdown",
   "metadata": {},
   "source": [
    "### R's result \n",
    "Coefficients of linear discriminants:\n",
    "             LD1       LD2\n",
    "displ -1.5267671  1.803505\n",
    "cyl    0.3884603 -1.662712"
   ]
  },
  {
   "cell_type": "markdown",
   "metadata": {},
   "source": [
    "# Test of predict function\n",
    "\n",
    "## Iris "
   ]
  },
  {
   "cell_type": "code",
   "execution_count": 33,
   "metadata": {},
   "outputs": [],
   "source": [
    "## Iris \n",
    "\n",
    "iris = dataset(\"datasets\", \"iris\")\n",
    "\n",
    "X_iris = iris[:,1:4]\n",
    "\n",
    "labels = [0 for y in 1:150]\n",
    "for i = 1:size(iris, 1)\n",
    "    x = iris[:, 5][i]\n",
    "    if x == \"setosa\"\n",
    "        labels[i] = 1\n",
    "    elseif x == \"virginica\"\n",
    "        labels[i] = 2\n",
    "    else\n",
    "        labels[i] = 3\n",
    "    end\n",
    "end\n",
    "\n",
    "y_iris = labels;"
   ]
  },
  {
   "cell_type": "code",
   "execution_count": 34,
   "metadata": {},
   "outputs": [
    {
     "data": {
      "text/plain": [
       "3×150 Matrix{Float64}:\n",
       "  31.336    24.0034   26.863    21.6283  …  -67.6755   -74.3345   -65.6157\n",
       " -64.4127  -59.5744  -61.3954  -57.6906      11.1982    17.2904     9.30181\n",
       " -17.9608  -15.4665  -16.5051  -14.9752       5.43973    6.00658    5.27637"
      ]
     },
     "execution_count": 34,
     "metadata": {},
     "output_type": "execute_result"
    }
   ],
   "source": [
    "# Decision function:\n",
    "\n",
    "# it returns W^T*X +b \n",
    "\n",
    "decision_(X_iris,y_iris , 0.0001 , \"SVD\")"
   ]
  },
  {
   "cell_type": "code",
   "execution_count": 39,
   "metadata": {},
   "outputs": [
    {
     "data": {
      "text/plain": [
       "3×150 Matrix{Float64}:\n",
       " 1.0          1.0          1.0          …  1.61369e-40  2.85801e-33\n",
       " 2.61117e-42  5.04214e-37  4.67593e-39     0.999987     0.982458\n",
       " 3.89636e-22  7.21797e-18  1.46385e-19     1.25747e-5   0.0175423"
      ]
     },
     "execution_count": 39,
     "metadata": {},
     "output_type": "execute_result"
    }
   ],
   "source": [
    "## Predict probability:\n",
    "\n",
    "## It predicts probably of each instance of being in each class using softmax function \n",
    "predictProba(X_iris ,y_iris, \"SVD\" ,0.0001)"
   ]
  },
  {
   "cell_type": "code",
   "execution_count": 41,
   "metadata": {},
   "outputs": [],
   "source": [
    "# Predict class \n",
    "# Its predicts the class based on probability values. \n",
    "\n",
    "predictClass(X_iris,y_iris, \"SVD\", 0.0001);"
   ]
  },
  {
   "cell_type": "markdown",
   "metadata": {},
   "source": [
    "### Here I am saving the result in CSV for better analysis :"
   ]
  },
  {
   "cell_type": "code",
   "execution_count": 46,
   "metadata": {},
   "outputs": [
    {
     "data": {
      "text/plain": [
       "\"result_iris_cat.csv\""
      ]
     },
     "execution_count": 46,
     "metadata": {},
     "output_type": "execute_result"
    }
   ],
   "source": [
    "using CSV\n",
    "res_iris = predictClass(X_iris,y_iris, \"SVD\", 0.0001);\n",
    "res_iris_cat = predictClass(X_iris,iris[:,5], \"SVD\", 0.0001);\n",
    "\n",
    "iris[: ,\"result_iris_cat\"] = res_iris_cat\n",
    "\n",
    "CSV.write(\"result_iris_cat.csv\", iris)"
   ]
  },
  {
   "cell_type": "markdown",
   "metadata": {},
   "source": [
    "## MPG"
   ]
  },
  {
   "cell_type": "code",
   "execution_count": 47,
   "metadata": {},
   "outputs": [
    {
     "data": {
      "text/plain": [
       "Dict{String, Any} with 4 entries:\n",
       "  \"rank\"      => 2\n",
       "  \"intercept\" => [-2.85862; 1.79851; -9.46405;;]\n",
       "  \"coef\"      => [0.79579 -0.150989; -1.50024 0.35878; 3.08237 -0.899155]\n",
       "  \"scalings\"  => [-1.52677 1.80351; 0.38846 -1.66271]"
      ]
     },
     "execution_count": 47,
     "metadata": {},
     "output_type": "execute_result"
    }
   ],
   "source": [
    "mpg = dataset(\"ggplot2\", \"mpg\")\n",
    "\n",
    "X_mpg = mpg[!,[\"Displ\", \"Cyl\"]]\n",
    "y_mpg = _make_cat(mpg[!,\"Drv\"]);\n",
    "\n",
    "priors = _priors(X_mpg,y_mpg)\n",
    "tol = 0.0001\n",
    "method = \"SVD\"\n",
    "model = fit_(X_mpg, y_mpg , tol, method , priors)"
   ]
  },
  {
   "cell_type": "code",
   "execution_count": 48,
   "metadata": {},
   "outputs": [
    {
     "data": {
      "text/plain": [
       "3×234 Matrix{Float64}:\n",
       " 0.0715136    0.0715136    0.108617    …  0.215958    0.215958    0.611966\n",
       " 0.928189     0.928189     0.890669       0.782062    0.782062    0.353083\n",
       " 0.000297495  0.000297495  0.00071384     0.00197998  0.00197998  0.0349511"
      ]
     },
     "execution_count": 48,
     "metadata": {},
     "output_type": "execute_result"
    }
   ],
   "source": [
    "predictProba(X_mpg,mpg[!,\"Drv\"], \"SVD\", 0.0001)"
   ]
  },
  {
   "cell_type": "code",
   "execution_count": 51,
   "metadata": {},
   "outputs": [
    {
     "data": {
      "text/plain": [
       "234-element Vector{Any}:\n",
       " 2\n",
       " 2\n",
       " 2\n",
       " 2\n",
       " 2\n",
       " 2\n",
       " 2\n",
       " 2\n",
       " 2\n",
       " 2\n",
       " 2\n",
       " 2\n",
       " 2\n",
       " ⋮\n",
       " 2\n",
       " 2\n",
       " 2\n",
       " 2\n",
       " 2\n",
       " 2\n",
       " 2\n",
       " 2\n",
       " 2\n",
       " 2\n",
       " 2\n",
       " 1"
      ]
     },
     "execution_count": 51,
     "metadata": {},
     "output_type": "execute_result"
    }
   ],
   "source": [
    "predict = predictClass(X_mpg,y_mpg, \"SVD\", 0.0001)"
   ]
  },
  {
   "cell_type": "code",
   "execution_count": 50,
   "metadata": {},
   "outputs": [
    {
     "data": {
      "text/plain": [
       "234-element Vector{String}:\n",
       " \"f\"\n",
       " \"f\"\n",
       " \"f\"\n",
       " \"f\"\n",
       " \"f\"\n",
       " \"f\"\n",
       " \"f\"\n",
       " \"f\"\n",
       " \"f\"\n",
       " \"f\"\n",
       " \"f\"\n",
       " \"f\"\n",
       " \"f\"\n",
       " ⋮\n",
       " \"f\"\n",
       " \"f\"\n",
       " \"f\"\n",
       " \"f\"\n",
       " \"f\"\n",
       " \"f\"\n",
       " \"f\"\n",
       " \"f\"\n",
       " \"f\"\n",
       " \"f\"\n",
       " \"f\"\n",
       " \"4\""
      ]
     },
     "execution_count": 50,
     "metadata": {},
     "output_type": "execute_result"
    }
   ],
   "source": [
    "cat_predict = predictClass(X_mpg,mpg[!,\"Drv\"], \"SVD\", 0.0001)"
   ]
  },
  {
   "cell_type": "markdown",
   "metadata": {},
   "source": [
    "## Penguin "
   ]
  },
  {
   "cell_type": "code",
   "execution_count": 52,
   "metadata": {},
   "outputs": [],
   "source": [
    "df = CSV.read(\"file1.csv\" , DataFrame)\n",
    "\n",
    "X_penguin = df[!,[\"Culmen Length (mm)\" , \"Culmen Depth (mm)\", \"Flipper Length (mm)\",\"Body Mass (g)\"]]\n",
    "\n",
    "y_penguin = df[!,\"Species\"]\n",
    "\n",
    "labels = zeros(length(y))\n",
    "for (idx,specie) in enumerate(y)\n",
    "    if specie ==\"Adelie Penguin (Pygoscelis adeliae)\"\n",
    "        labels[idx] = 1\n",
    "    elseif specie == \"Gentoo penguin (Pygoscelis papua)\"\n",
    "        labels[idx] = 2\n",
    "    end\n",
    "end\n",
    "y = labels;"
   ]
  },
  {
   "cell_type": "code",
   "execution_count": 53,
   "metadata": {},
   "outputs": [
    {
     "data": {
      "text/plain": [
       "3×342 Matrix{Float64}:\n",
       "   8.4606     2.29389    2.60919    9.79735  …  -25.9815  -21.1147  -21.0045\n",
       "  -2.23511   -5.9027    -1.51246   -3.75143     -19.992   -21.1558  -15.1972\n",
       " -35.9687   -26.3705   -29.1847   -36.7714       16.1307   10.7994    7.37"
      ]
     },
     "execution_count": 53,
     "metadata": {},
     "output_type": "execute_result"
    }
   ],
   "source": [
    "decision_(X_penguin,y_penguin , 0.0001 , \"SVD\")"
   ]
  },
  {
   "cell_type": "code",
   "execution_count": 54,
   "metadata": {},
   "outputs": [
    {
     "data": {
      "text/plain": [
       "3×342 Matrix{Float64}:\n",
       " 0.999977     0.999724     0.984041     …  1.37997e-14  4.75453e-13\n",
       " 2.26413e-5   0.000275516  0.0159588       1.32447e-14  1.58194e-10\n",
       " 5.06537e-20  3.55699e-13  1.53139e-14     1.0          1.0"
      ]
     },
     "execution_count": 54,
     "metadata": {},
     "output_type": "execute_result"
    }
   ],
   "source": [
    "predictProba(X_penguin,y_penguin, \"SVD\", 0.0001)"
   ]
  },
  {
   "cell_type": "code",
   "execution_count": 55,
   "metadata": {},
   "outputs": [
    {
     "data": {
      "text/plain": [
       "342-element Vector{String}:\n",
       " \"Adelie Penguin (Pygoscelis adeliae)\"\n",
       " \"Adelie Penguin (Pygoscelis adeliae)\"\n",
       " \"Adelie Penguin (Pygoscelis adeliae)\"\n",
       " \"Adelie Penguin (Pygoscelis adeliae)\"\n",
       " \"Adelie Penguin (Pygoscelis adeliae)\"\n",
       " \"Adelie Penguin (Pygoscelis adeliae)\"\n",
       " \"Adelie Penguin (Pygoscelis adeliae)\"\n",
       " \"Adelie Penguin (Pygoscelis adeliae)\"\n",
       " \"Adelie Penguin (Pygoscelis adeliae)\"\n",
       " \"Adelie Penguin (Pygoscelis adeliae)\"\n",
       " \"Adelie Penguin (Pygoscelis adeliae)\"\n",
       " \"Adelie Penguin (Pygoscelis adeliae)\"\n",
       " \"Adelie Penguin (Pygoscelis adeliae)\"\n",
       " ⋮\n",
       " \"Gentoo penguin (Pygoscelis papua)\"\n",
       " \"Gentoo penguin (Pygoscelis papua)\"\n",
       " \"Gentoo penguin (Pygoscelis papua)\"\n",
       " \"Gentoo penguin (Pygoscelis papua)\"\n",
       " \"Gentoo penguin (Pygoscelis papua)\"\n",
       " \"Gentoo penguin (Pygoscelis papua)\"\n",
       " \"Gentoo penguin (Pygoscelis papua)\"\n",
       " \"Gentoo penguin (Pygoscelis papua)\"\n",
       " \"Gentoo penguin (Pygoscelis papua)\"\n",
       " \"Gentoo penguin (Pygoscelis papua)\"\n",
       " \"Gentoo penguin (Pygoscelis papua)\"\n",
       " \"Gentoo penguin (Pygoscelis papua)\""
      ]
     },
     "execution_count": 55,
     "metadata": {},
     "output_type": "execute_result"
    }
   ],
   "source": [
    "predictClass(X_penguin,y_penguin, \"SVD\", 0.0001)"
   ]
  },
  {
   "cell_type": "markdown",
   "metadata": {},
   "source": [
    "# Penguin (2 classes)"
   ]
  },
  {
   "cell_type": "code",
   "execution_count": 60,
   "metadata": {},
   "outputs": [],
   "source": [
    "df = CSV.read(\"file2.csv\" , DataFrame)\n",
    "\n",
    "X_penguin_2 = df[!,[\"Culmen Length (mm)\" , \"Culmen Depth (mm)\", \"Flipper Length (mm)\",\"Body Mass (g)\"]]\n",
    "\n",
    "y = df[!,\"Sex\"]\n",
    "\n",
    "labels =  [0 for x in range(1, length(y))]\n",
    "for (idx,sex) in enumerate(y)\n",
    "    if sex ==\"MALE\"\n",
    "        labels[idx] = 1\n",
    "    else\n",
    "        labels[idx] = 0\n",
    "    end\n",
    "end\n",
    "y = labels;"
   ]
  },
  {
   "cell_type": "code",
   "execution_count": 61,
   "metadata": {},
   "outputs": [
    {
     "data": {
      "text/plain": [
       "334-element Vector{Float64}:\n",
       "  0.6263612666421778\n",
       " -1.6021058899002654\n",
       " -3.146703787830525\n",
       " -0.09552660575226213\n",
       "  3.5495017352390548\n",
       " -1.6494647477584152\n",
       "  6.402237915599059\n",
       " -3.8257684642851757\n",
       "  5.284527064181219\n",
       "  7.419044425951832\n",
       " -1.5806243546731622\n",
       " -0.5010098335444795\n",
       "  7.897013069982229\n",
       "  ⋮\n",
       "  5.909346381799942\n",
       " -1.7953032509887734\n",
       "  4.683508380232929\n",
       " -4.944799978176881\n",
       "  6.101988372900415\n",
       "  0.21210400636205406\n",
       "  6.728265031119221\n",
       " -2.964646003508655\n",
       " -2.256478058758354\n",
       "  4.776650691966459\n",
       "  0.2155407052112963\n",
       "  3.9870539412930412"
      ]
     },
     "execution_count": 61,
     "metadata": {},
     "output_type": "execute_result"
    }
   ],
   "source": [
    "decision_(X_penguin_2, y , 0.0001 , \"SVD\")"
   ]
  },
  {
   "cell_type": "code",
   "execution_count": 64,
   "metadata": {},
   "outputs": [],
   "source": [
    "prob = predictProba(X_penguin_2,y, model, tol);"
   ]
  },
  {
   "cell_type": "code",
   "execution_count": 66,
   "metadata": {},
   "outputs": [
    {
     "data": {
      "text/plain": [
       "334-element Vector{Any}:\n",
       " 1\n",
       " 2\n",
       " 2\n",
       " 2\n",
       " 1\n",
       " 2\n",
       " 1\n",
       " 2\n",
       " 1\n",
       " 1\n",
       " 2\n",
       " 2\n",
       " 1\n",
       " ⋮\n",
       " 1\n",
       " 2\n",
       " 1\n",
       " 2\n",
       " 1\n",
       " 1\n",
       " 1\n",
       " 2\n",
       " 2\n",
       " 1\n",
       " 1\n",
       " 1"
      ]
     },
     "execution_count": 66,
     "metadata": {},
     "output_type": "execute_result"
    }
   ],
   "source": [
    "predictClass(X_penguin_2,y, model, tol)"
   ]
  },
  {
   "cell_type": "code",
   "execution_count": null,
   "metadata": {},
   "outputs": [],
   "source": []
  }
 ],
 "metadata": {
  "kernelspec": {
   "display_name": "Julia 1.7.2",
   "language": "julia",
   "name": "julia-1.7"
  },
  "language_info": {
   "file_extension": ".jl",
   "mimetype": "application/julia",
   "name": "julia",
   "version": "1.7.2"
  }
 },
 "nbformat": 4,
 "nbformat_minor": 4
}
