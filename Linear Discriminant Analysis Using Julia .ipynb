{
 "cells": [
  {
   "cell_type": "markdown",
   "metadata": {},
   "source": [
    "\n",
    "# Linear Discriminant Analysis Using Julia \n"
   ]
  },
  {
   "cell_type": "code",
   "execution_count": 1,
   "metadata": {},
   "outputs": [],
   "source": [
    "# importing libraries \n",
    "\n",
    "using LinearAlgebra\n",
    "using Statistics\n",
    "using RDatasets\n",
    "using BenchmarkTools\n",
    "using CSV\n",
    "using DataFrames\n",
    "using Plots"
   ]
  },
  {
   "cell_type": "code",
   "execution_count": 2,
   "metadata": {},
   "outputs": [
    {
     "data": {
      "text/plain": [
       "_class_cov (generic function with 1 method)"
      ]
     },
     "execution_count": 2,
     "metadata": {},
     "output_type": "execute_result"
    }
   ],
   "source": [
    "# _class_cov \n",
    "\n",
    "function _class_cov(X , y, priors)\n",
    "```\n",
    "    Computes within-class covariance matrix\n",
    "    \n",
    "    input: \n",
    "    X : Predictor matrix \n",
    "    y: target values \n",
    "    priors: class priors\n",
    "        \n",
    "    output:\n",
    "    cov_ : Weighted within-class covariance matrix\n",
    "    \n",
    "```\n",
    "    classes = sort(unique(y))\n",
    "    cov_ = zeros(size(X)[2], size(X)[2])\n",
    "    \n",
    "    for (idx, group) in enumerate(classes)\n",
    "        Xg = X[y .== group, :]\n",
    "        cov_ += (priors[idx])*(cov(Matrix(Xg)))\n",
    "    end\n",
    "    return(cov_)\n",
    "end"
   ]
  },
  {
   "cell_type": "code",
   "execution_count": 3,
   "metadata": {},
   "outputs": [
    {
     "data": {
      "text/plain": [
       "mean_col (generic function with 1 method)"
      ]
     },
     "execution_count": 3,
     "metadata": {},
     "output_type": "execute_result"
    }
   ],
   "source": [
    "# mean_col\n",
    "\n",
    "function mean_col(X)\n",
    "```\n",
    "    computes mean of each column \n",
    "    \n",
    "    input:\n",
    "    X: Input data \n",
    "    \n",
    "    output:\n",
    "    mean_vec: mean value of each column\n",
    "    \n",
    "```\n",
    "    mean_vec = [mean(c) for c in eachcol(X)]\n",
    "    return(mean_vec)\n",
    "end"
   ]
  },
  {
   "cell_type": "code",
   "execution_count": 4,
   "metadata": {},
   "outputs": [
    {
     "data": {
      "text/plain": [
       "_class_Mean (generic function with 1 method)"
      ]
     },
     "execution_count": 4,
     "metadata": {},
     "output_type": "execute_result"
    }
   ],
   "source": [
    "# _class_Mean\n",
    "\n",
    "function _class_Mean(X,y)\n",
    "```\n",
    "    Computes class mean \n",
    "    \n",
    "    input: \n",
    "    X: Input data\n",
    "    y: target values\n",
    "    \n",
    "    output\n",
    "    \n",
    "    mean_ :  column wise mean for each class\"(a matrix of shape(number of attributes , number of classes))\"\n",
    "    \n",
    "```\n",
    "    classes = sort(unique(y))\n",
    "    \n",
    "    mean_ = zeros(size(X)[2] ,length(classes) )\n",
    "    for (idx, group) in enumerate(classes)\n",
    "        Xg = X[y .== group, :]\n",
    "        mean_val = [mean(c) for c in eachcol(Xg)]\n",
    "        mean_[: ,idx] = mean_val\n",
    "    end\n",
    "    return(mean_)\n",
    "end"
   ]
  },
  {
   "cell_type": "code",
   "execution_count": 5,
   "metadata": {},
   "outputs": [
    {
     "data": {
      "text/plain": [
       "_priors (generic function with 1 method)"
      ]
     },
     "execution_count": 5,
     "metadata": {},
     "output_type": "execute_result"
    }
   ],
   "source": [
    "# _priors \n",
    "\n",
    "function _priors(X,y)\n",
    "```\n",
    "    Computes class priors \n",
    "    \n",
    "    input: \n",
    "    X: Input data\n",
    "    y: target values\n",
    "    \n",
    "    output:\n",
    "    prior_ :  prior value for each class\n",
    "\n",
    "```\n",
    "\n",
    "    classes = sort(unique(y))\n",
    "    \n",
    "    prior_ = zeros(length(classes) )\n",
    "    for (idx, group) in enumerate(classes)\n",
    "        Xg = X[y .== group, :]\n",
    "        prop = size(Xg)[1]/size(X)[1]\n",
    "        prior_[idx] = prop\n",
    "    end\n",
    "    return(prior_)\n",
    "end"
   ]
  },
  {
   "cell_type": "code",
   "execution_count": 6,
   "metadata": {},
   "outputs": [
    {
     "data": {
      "text/plain": [
       "_make_cat (generic function with 1 method)"
      ]
     },
     "execution_count": 6,
     "metadata": {},
     "output_type": "execute_result"
    }
   ],
   "source": [
    "function _make_cat(y)\n",
    "```\n",
    "    transform target variable into numerical categorical varible \n",
    "    \n",
    "    input:\n",
    "    y: target variable\n",
    "    \n",
    "    output:\n",
    "    my_arr: numerical values corresponding to each categorical varible\"(1:number of classes)\"\n",
    "    \n",
    "```\n",
    "    classes = sort(unique(y))\n",
    "    \n",
    "    labels = [x for x in range(1,length(classes))]\n",
    "    \n",
    "    my_arr = [0 for x in range(1, length(y))]\n",
    "    \n",
    "    for (id ,val) in enumerate(y)\n",
    "        for (idx, class) in enumerate(classes)\n",
    "            if val == class\n",
    "                my_arr[id] = idx\n",
    "            end\n",
    "        end\n",
    "    end\n",
    "    return(my_arr)\n",
    "end"
   ]
  },
  {
   "cell_type": "code",
   "execution_count": 7,
   "metadata": {},
   "outputs": [
    {
     "data": {
      "text/plain": [
       "_solve_lsqr (generic function with 2 methods)"
      ]
     },
     "execution_count": 7,
     "metadata": {},
     "output_type": "execute_result"
    }
   ],
   "source": [
    "# _solve_lsqr\n",
    "```\n",
    "    Computes a straightforward solution of the optimal decision rule based directly on the discriminant functions.\n",
    "       using formula\n",
    "    coef_ = inv\"(sigma)\"\"*\"_class_Mean\n",
    "    \n",
    "    Note: dimensionality reduction is not supported with this solver\n",
    "    \n",
    "    input: \n",
    "    X : Predictor matrix \n",
    "    y: target values \n",
    "    priors: class priors\n",
    "        \n",
    "    output:\n",
    "    coef_ : coefficient of discriminant functions\n",
    "    intercept_ :  intercept of discriminant functions\n",
    "    \n",
    "    \n",
    "```\n",
    "\n",
    "\n",
    "function _solve_lsqr(X,y , priors::Union{Vector, Nothing}=nothing)\n",
    "    if priors !== nothing\n",
    "        @assert round(sum(priors); digits=4) == 1\n",
    "    end\n",
    "    \n",
    "    if priors === nothing \n",
    "        priors = _priors(X,y)\n",
    "    end\n",
    "    \n",
    "    mean_ = _class_Mean(X,y)\n",
    "    cov_ = _class_cov(X , y, priors)\n",
    "    ln_priors = [log(prior) for prior in priors]\n",
    "    \n",
    "    coef_ = inv(cov_)*mean_\n",
    "    intercept_ =  -0.5 * diag(transpose(mean_)*coef_) + ln_priors\n",
    "    \n",
    "    return(coef_, intercept_)\n",
    "end"
   ]
  },
  {
   "cell_type": "code",
   "execution_count": 8,
   "metadata": {},
   "outputs": [
    {
     "data": {
      "text/plain": [
       "_solve_eigen (generic function with 2 methods)"
      ]
     },
     "execution_count": 8,
     "metadata": {},
     "output_type": "execute_result"
    }
   ],
   "source": [
    "\n",
    "function _solve_eigen(X,y ,priors::Union{Vector, Nothing}=nothing )\n",
    "\n",
    "```\n",
    "    Computes the optimal solution of the Rayleigh coefficient\"(J(W))\", \"(basically the ratio of \n",
    "    between class scatter to within class scatter)\" \n",
    "    \"J(W) = \\frac{W.T*Sb*W}{W.T*Sw*W}\"\n",
    "    \n",
    "    This solver supports both classification and dimensionality reduction\n",
    "    \n",
    "    input: \n",
    "    X : Predictor matrix \n",
    "    y: target values \n",
    "    priors: class priors\n",
    "        \n",
    "    output:\n",
    "    coef_ : coefficient of discriminant functions\n",
    "    intercept_ :  intercept of discriminant functions\n",
    "       \n",
    "```\n",
    "    \n",
    "    if priors !== nothing\n",
    "        @assert round(sum(priors); digits=4) == 1\n",
    "    end\n",
    "    \n",
    "    if priors === nothing \n",
    "        priors = _priors(X,y)\n",
    "    end\n",
    "    \n",
    "    mean_ = _class_Mean(X,y)\n",
    "    cov_ = _class_cov(X , y, priors)\n",
    "    ln_priors = [log(prior) for prior in priors]\n",
    "    \n",
    "    Sw = cov_  # within scatter\n",
    "    St = cov(Matrix(X))  # total scatter\n",
    "    Sb = St - Sw\n",
    "    \n",
    "    evals , evecs = eigen(Sb, Sw)\n",
    "    \n",
    "    coef_ = (transpose(mean_)*evecs)*transpose(evecs)\n",
    "    intercept_ =  -0.5 * diag(transpose(mean_)*transpose(coef_)) + ln_priors\n",
    "    \n",
    "    return(coef_, intercept_)\n",
    "end"
   ]
  },
  {
   "cell_type": "code",
   "execution_count": 9,
   "metadata": {},
   "outputs": [
    {
     "data": {
      "text/plain": [
       "_solve_SVD (generic function with 2 methods)"
      ]
     },
     "execution_count": 9,
     "metadata": {},
     "output_type": "execute_result"
    }
   ],
   "source": [
    "function _solve_SVD(X,y , tol ,priors::Union{Vector, Nothing}=nothing)\n",
    "```\n",
    "    SVD solver\n",
    "    \n",
    "    This solver supports both classification and dimensionality reduction\n",
    "    \n",
    "    input: \n",
    "    X : Predictor matrix \n",
    "    y: target values \n",
    "    tol: tolerance value for cut-off eigen value of diag matrix of SVD \n",
    "    priors: class priors\n",
    "    \n",
    "    output:\n",
    "    pramas:\n",
    "        intercept: intercept values of discriminant functions \n",
    "        coef: coef of discriminant functions\n",
    "        rank: rank \n",
    "        scalings: transformation matrix\"(W)\"\n",
    "    \n",
    "    \n",
    "```\n",
    "    \n",
    "    if priors !== nothing\n",
    "        @assert round(sum(priors); digits=4) == 1\n",
    "    end\n",
    "    \n",
    "    if priors === nothing \n",
    "        priors = _priors(X,y)\n",
    "    end\n",
    "    \n",
    "    n_samples = size(X)[1]\n",
    "    classes = sort(unique(y))\n",
    "    mean_ = _class_Mean(X,y)\n",
    "    cov_ = _class_cov(X , y, priors)\n",
    "    ln_priors = [log(prior) for prior in priors]\n",
    "\n",
    "\n",
    "    Xc = []\n",
    "    for (idx, group) in enumerate(classes)\n",
    "        Xg = X[y .== group, :]\n",
    "        Xg_mean = broadcast(- , Xg , transpose(mean_[:,idx]))\n",
    "        push!(Xc , Matrix(Xg_mean))\n",
    "    end \n",
    "\n",
    "    xbar_ = mean_col(X)\n",
    "\n",
    "    Xc = vcat(Xc...)\n",
    "\n",
    "    std_ =  std(Xc , dims=1)\n",
    "    std_[std_.==0] .= 1\n",
    "\n",
    "    fac = 1.0 / (size(X)[1] - length(classes))\n",
    "\n",
    "    X_temp = sqrt(fac)*broadcast(/, Xc , std_)\n",
    "\n",
    "    U, S, Vt = svd(X_temp)\n",
    "\n",
    "    S_diag = S[S.>=tol]\n",
    "    rank = length(S_diag)\n",
    "    scalings_temp = broadcast(/, Vt[:, 1:rank] , transpose(std_))\n",
    "    scalings = broadcast(/, scalings_temp , transpose(S[1:rank]))\n",
    "\n",
    "    n_classes = length(classes)\n",
    "    fac_2 = ifelse.( n_classes==1 , 1, 1/(n_classes-1))\n",
    "    temp_1 = [sqrt(val) for val in (n_samples * priors *fac_2) ]\n",
    "    temp_2 = broadcast(-, mean_ , xbar_)\n",
    "    temp_3 = broadcast(* , transpose(temp_2) , temp_1)\n",
    "\n",
    "    X_new = temp_3*scalings\n",
    "\n",
    "    U, S, Vt = svd(X_new, full=false)\n",
    "\n",
    "    rank = length(S[S.>=tol])\n",
    "    scalings_ = scalings*Vt[:, 1:rank]\n",
    "\n",
    "    coef = transpose(temp_2)*scalings_\n",
    "\n",
    "    intercept_ = (-0.5)*sum(coef.*coef , dims=2) + ln_priors\n",
    "    coef_ = coef*transpose(scalings_)\n",
    "    intercept_ = intercept_ - coef_*xbar_\n",
    "    \n",
    "    \n",
    "    if length(classes) ==2\n",
    "        coef_ = coef_[2,:] - coef_[1,:]\n",
    "        intercept_ = intercept_[2] -  intercept_[1]\n",
    "    end\n",
    "    \n",
    "    params = Dict(\"intercept\" => intercept_ , \"coef\" => coef_, \"rank\" => rank, \"scalings\" => scalings_)\n",
    "\n",
    "    return(params)\n",
    "end\n",
    "\n",
    "\n",
    "\n"
   ]
  },
  {
   "cell_type": "code",
   "execution_count": 10,
   "metadata": {},
   "outputs": [
    {
     "data": {
      "text/plain": [
       "_solve_moment (generic function with 2 methods)"
      ]
     },
     "execution_count": 10,
     "metadata": {},
     "output_type": "execute_result"
    }
   ],
   "source": [
    "\n",
    "\n",
    "function _solve_moment(X,y , tol ,priors::Union{Vector, Nothing}=nothing)\n",
    "\n",
    "```\n",
    "    SVD solver, uses standard estimators of the mean and variance \"(replicating R's solution)\"\n",
    "    \n",
    "    This solver supports both classification and dimensionality reduction\n",
    "    \n",
    "    input: \n",
    "    X : Predictor matrix \n",
    "    y: target values \n",
    "    tol: tolerance value for cut-off eigen value of diag matrix of SVD \n",
    "    priors: class priors\n",
    "    \n",
    "    output:\n",
    "    pramas:\n",
    "        intercept: intercept values of discriminant functions \n",
    "        coef: coef of discriminant functions\n",
    "        rank: rank \n",
    "        scalings:  transformation matrix\"(W)\"\n",
    "```\n",
    "    \n",
    "    if priors !== nothing\n",
    "        @assert round(sum(priors); digits=4) == 1\n",
    "    end\n",
    "    \n",
    "    if priors === nothing \n",
    "        priors = _priors(X,y)\n",
    "    end\n",
    "    \n",
    "    n_samples = size(X)[1]\n",
    "    classes = sort(unique(y))\n",
    "    mean_ = _class_Mean(X,y)\n",
    "    cov_ = _class_cov(X , y, priors)\n",
    "    ln_priors = [log(prior) for prior in priors]\n",
    "\n",
    "    Xc = []\n",
    "    for (idx, group) in enumerate(classes)\n",
    "        Xg = X[y .== group, :]\n",
    "        Xg_mean = broadcast(- , Xg , transpose(mean_[:,idx]))\n",
    "        push!(Xc , Matrix(Xg_mean))\n",
    "    end\n",
    "\n",
    "    xbar_ = mean_col(X)\n",
    "\n",
    "    Xc = vcat(Xc...)\n",
    "\n",
    "    std_ =  std(Xc , dims=1)\n",
    "    std_[std_.==0] .= 1\n",
    "\n",
    "    fac = 1.0 / (size(X)[1] - length(classes))\n",
    "    X_temp = sqrt(fac)*broadcast(/, Xc , std_)\n",
    "    \n",
    "    \n",
    "    U, S, Vt = svd(X_temp)\n",
    "    S_diag = S[S.>=tol]\n",
    "    rank = length(S_diag)\n",
    "    scalings_temp = broadcast(/, Vt[:, 1:rank] , transpose(std_))\n",
    "    scalings = broadcast(/, scalings_temp , transpose(S[1:rank]))\n",
    "\n",
    "    n_classes = length(classes)\n",
    "    fac_2 = ifelse.( n_classes==1 , 1, 1/(n_classes-1))\n",
    "\n",
    "    temp_1 = [sqrt(val) for val in (n_samples * priors *fac_2) ]\n",
    "    temp_2 = broadcast(-, mean_ , xbar_)\n",
    "    temp_3 = broadcast(* , transpose(temp_2) , temp_1)\n",
    "\n",
    "    X_new = temp_3*scalings\n",
    "\n",
    "    U, S, Vt = svd(X_new, full=false)\n",
    "    rank  = length(S[S.>=tol])\n",
    "    scalings_ = scalings*Vt[:, 1:rank]\n",
    "    intercept_temp_1 = transpose(temp_2)*scalings_\n",
    "    intercept_ = (-0.5)*sum(intercept_temp_1.*intercept_temp_1 , dims=2) + ln_priors\n",
    "    intercept_temp_2 = intercept_temp_1*transpose(scalings_)\n",
    "    intercept_ = intercept_ - intercept_temp_2*xbar_\n",
    "    params = Dict(\"intercept\" => intercept_ , \"coef\" => scalings_, \"rank\" => rank, \"scalings\" => scalings_)\n",
    "\n",
    "    return(params)\n",
    "end\n"
   ]
  },
  {
   "cell_type": "markdown",
   "metadata": {},
   "source": [
    "# Test\n",
    "\n",
    "## IRIS"
   ]
  },
  {
   "cell_type": "code",
   "execution_count": 69,
   "metadata": {},
   "outputs": [],
   "source": [
    "iris = dataset(\"datasets\", \"iris\")\n",
    "\n",
    "X = iris[:,1:4]\n",
    "\n",
    "labels = [0 for y in 1:150]\n",
    "for i = 1:size(iris, 1)\n",
    "    x = iris[:, 5][i]\n",
    "    if x == \"setosa\"\n",
    "        labels[i] = 1\n",
    "    elseif x == \"virginica\"\n",
    "        labels[i] = 2\n",
    "    else\n",
    "        labels[i] = 3\n",
    "    end\n",
    "end\n",
    "\n",
    "y = labels;"
   ]
  },
  {
   "cell_type": "code",
   "execution_count": 12,
   "metadata": {},
   "outputs": [
    {
     "data": {
      "text/plain": [
       "3×4 Matrix{Float64}:\n",
       " 23.5442  23.5879   -16.4306   -17.3984\n",
       " 12.4458   3.68528   12.7665    21.0791\n",
       " 15.6982   7.07251    5.21145    6.43423"
      ]
     },
     "execution_count": 12,
     "metadata": {},
     "output_type": "execute_result"
    }
   ],
   "source": [
    "intercept, coef = _solve_eigen(X,y)\n",
    "intercept"
   ]
  },
  {
   "cell_type": "code",
   "execution_count": 72,
   "metadata": {},
   "outputs": [
    {
     "data": {
      "text/plain": [
       "3×4 Matrix{Float64}:\n",
       "  6.31476  12.1393   -16.9464   -20.7701\n",
       " -4.78356  -7.76327   12.2508    17.7075\n",
       " -1.5312   -4.37604    4.69567    3.06259"
      ]
     },
     "execution_count": 72,
     "metadata": {},
     "output_type": "execute_result"
    }
   ],
   "source": [
    "tol = 0.0001\n",
    "paramas_iris = _solve_SVD(X,y , tol)\n",
    "paramas_iris[\"coef\"]"
   ]
  },
  {
   "cell_type": "code",
   "execution_count": 52,
   "metadata": {},
   "outputs": [
    {
     "data": {
      "text/plain": [
       "BenchmarkTools.Trial: 10000 samples with 1 evaluation.\n",
       " Range \u001b[90m(\u001b[39m\u001b[36m\u001b[1mmin\u001b[22m\u001b[39m … \u001b[35mmax\u001b[39m\u001b[90m):  \u001b[39m\u001b[36m\u001b[1m249.092 μs\u001b[22m\u001b[39m … \u001b[35m  7.331 ms\u001b[39m  \u001b[90m┊\u001b[39m GC \u001b[90m(\u001b[39mmin … max\u001b[90m): \u001b[39m0.00% … 0.00%\n",
       " Time  \u001b[90m(\u001b[39m\u001b[34m\u001b[1mmedian\u001b[22m\u001b[39m\u001b[90m):     \u001b[39m\u001b[34m\u001b[1m261.724 μs               \u001b[22m\u001b[39m\u001b[90m┊\u001b[39m GC \u001b[90m(\u001b[39mmedian\u001b[90m):    \u001b[39m0.00%\n",
       " Time  \u001b[90m(\u001b[39m\u001b[32m\u001b[1mmean\u001b[22m\u001b[39m ± \u001b[32mσ\u001b[39m\u001b[90m):   \u001b[39m\u001b[32m\u001b[1m303.838 μs\u001b[22m\u001b[39m ± \u001b[32m324.936 μs\u001b[39m  \u001b[90m┊\u001b[39m GC \u001b[90m(\u001b[39mmean ± σ\u001b[90m):  \u001b[39m5.93% ± 5.50%\n",
       "\n",
       "  \u001b[39m▆\u001b[39m█\u001b[34m▇\u001b[39m\u001b[39m▅\u001b[39m▄\u001b[39m▄\u001b[39m▃\u001b[39m▃\u001b[39m▂\u001b[32m▂\u001b[39m\u001b[39m▂\u001b[39m▂\u001b[39m▁\u001b[39m \u001b[39m \u001b[39m \u001b[39m \u001b[39m \u001b[39m \u001b[39m \u001b[39m \u001b[39m \u001b[39m \u001b[39m \u001b[39m \u001b[39m \u001b[39m \u001b[39m \u001b[39m \u001b[39m \u001b[39m \u001b[39m \u001b[39m▁\u001b[39m \u001b[39m \u001b[39m \u001b[39m \u001b[39m \u001b[39m \u001b[39m \u001b[39m \u001b[39m \u001b[39m \u001b[39m \u001b[39m \u001b[39m \u001b[39m \u001b[39m \u001b[39m \u001b[39m \u001b[39m \u001b[39m \u001b[39m \u001b[39m \u001b[39m \u001b[39m \u001b[39m \u001b[39m \u001b[39m \u001b[39m \u001b[39m \u001b[39m \u001b[39m▂\n",
       "  \u001b[39m█\u001b[39m█\u001b[34m█\u001b[39m\u001b[39m█\u001b[39m█\u001b[39m█\u001b[39m█\u001b[39m█\u001b[39m█\u001b[32m█\u001b[39m\u001b[39m█\u001b[39m█\u001b[39m█\u001b[39m█\u001b[39m█\u001b[39m█\u001b[39m█\u001b[39m█\u001b[39m▇\u001b[39m▇\u001b[39m▇\u001b[39m█\u001b[39m▇\u001b[39m▆\u001b[39m▇\u001b[39m▇\u001b[39m▇\u001b[39m▇\u001b[39m▇\u001b[39m▇\u001b[39m█\u001b[39m█\u001b[39m█\u001b[39m█\u001b[39m█\u001b[39m█\u001b[39m█\u001b[39m█\u001b[39m▇\u001b[39m▇\u001b[39m▇\u001b[39m▇\u001b[39m▇\u001b[39m▇\u001b[39m▇\u001b[39m▇\u001b[39m▆\u001b[39m▆\u001b[39m▆\u001b[39m▆\u001b[39m▅\u001b[39m▅\u001b[39m▅\u001b[39m▅\u001b[39m▆\u001b[39m▆\u001b[39m▁\u001b[39m▁\u001b[39m▄\u001b[39m▄\u001b[39m▅\u001b[39m \u001b[39m█\n",
       "  249 μs\u001b[90m        \u001b[39m\u001b[90mHistogram: \u001b[39m\u001b[90m\u001b[1mlog(\u001b[22m\u001b[39m\u001b[90mfrequency\u001b[39m\u001b[90m\u001b[1m)\u001b[22m\u001b[39m\u001b[90m by time\u001b[39m        614 μs \u001b[0m\u001b[1m<\u001b[22m\n",
       "\n",
       " Memory estimate\u001b[90m: \u001b[39m\u001b[33m208.69 KiB\u001b[39m, allocs estimate\u001b[90m: \u001b[39m\u001b[33m1178\u001b[39m."
      ]
     },
     "execution_count": 52,
     "metadata": {},
     "output_type": "execute_result"
    }
   ],
   "source": [
    "tol = 0.0001\n",
    "@benchmark pramas = _solve_SVD(X,y , tol)"
   ]
  },
  {
   "cell_type": "code",
   "execution_count": 56,
   "metadata": {},
   "outputs": [
    {
     "data": {
      "text/plain": [
       "4×3 Matrix{Float64}:\n",
       "  0.209815  -0.20457   -0.210479\n",
       "  0.403343  -0.331998  -0.601533\n",
       " -0.563065   0.523907   0.645468\n",
       " -0.690109   0.757265   0.420984"
      ]
     },
     "execution_count": 56,
     "metadata": {},
     "output_type": "execute_result"
    }
   ],
   "source": [
    "proj = pramas[\"coef\"]\n",
    "\n",
    "make_normal(transpose(proj))"
   ]
  },
  {
   "cell_type": "markdown",
   "metadata": {},
   "source": [
    "# Python's result on IRIS LDA : \n",
    "### Coef_\n",
    "\n",
    "[[  6.31475846,  12.13931718, -16.94642465, -20.77005459],\n",
    "[ -1.53119919,  -4.37604348,   4.69566531,   3.06258539],\n",
    "[ -4.78355927,  -7.7632737 ,  12.25075935,  17.7074692 ]]"
   ]
  },
  {
   "cell_type": "code",
   "execution_count": 15,
   "metadata": {},
   "outputs": [
    {
     "data": {
      "text/plain": [
       "3×1 Matrix{Float64}:\n",
       " -15.477836726795022\n",
       " -33.53768673957079\n",
       "  -2.0219741537631464"
      ]
     },
     "execution_count": 15,
     "metadata": {},
     "output_type": "execute_result"
    }
   ],
   "source": [
    "pramas[\"intercept\"]"
   ]
  },
  {
   "cell_type": "markdown",
   "metadata": {},
   "source": [
    "### Intercept_\n",
    "[-15.47783673,  -2.02197415, -33.53768674]"
   ]
  },
  {
   "cell_type": "code",
   "execution_count": 44,
   "metadata": {},
   "outputs": [
    {
     "data": {
      "text/plain": [
       "BenchmarkTools.Trial: 10000 samples with 1 evaluation.\n",
       " Range \u001b[90m(\u001b[39m\u001b[36m\u001b[1mmin\u001b[22m\u001b[39m … \u001b[35mmax\u001b[39m\u001b[90m):  \u001b[39m\u001b[36m\u001b[1m253.830 μs\u001b[22m\u001b[39m … \u001b[35m  7.766 ms\u001b[39m  \u001b[90m┊\u001b[39m GC \u001b[90m(\u001b[39mmin … max\u001b[90m): \u001b[39m0.00% … 87.20%\n",
       " Time  \u001b[90m(\u001b[39m\u001b[34m\u001b[1mmedian\u001b[22m\u001b[39m\u001b[90m):     \u001b[39m\u001b[34m\u001b[1m262.909 μs               \u001b[22m\u001b[39m\u001b[90m┊\u001b[39m GC \u001b[90m(\u001b[39mmedian\u001b[90m):    \u001b[39m0.00%\n",
       " Time  \u001b[90m(\u001b[39m\u001b[32m\u001b[1mmean\u001b[22m\u001b[39m ± \u001b[32mσ\u001b[39m\u001b[90m):   \u001b[39m\u001b[32m\u001b[1m290.054 μs\u001b[22m\u001b[39m ± \u001b[32m301.630 μs\u001b[39m  \u001b[90m┊\u001b[39m GC \u001b[90m(\u001b[39mmean ± σ\u001b[90m):  \u001b[39m6.31% ±  5.77%\n",
       "\n",
       "  \u001b[39m▄\u001b[39m█\u001b[39m█\u001b[34m▆\u001b[39m\u001b[39m▄\u001b[39m▄\u001b[39m▄\u001b[39m▃\u001b[39m▁\u001b[39m▁\u001b[32m \u001b[39m\u001b[39m \u001b[39m \u001b[39m \u001b[39m \u001b[39m \u001b[39m \u001b[39m \u001b[39m \u001b[39m \u001b[39m \u001b[39m \u001b[39m \u001b[39m \u001b[39m \u001b[39m \u001b[39m \u001b[39m \u001b[39m \u001b[39m \u001b[39m \u001b[39m \u001b[39m \u001b[39m \u001b[39m \u001b[39m \u001b[39m \u001b[39m \u001b[39m \u001b[39m \u001b[39m \u001b[39m \u001b[39m \u001b[39m \u001b[39m \u001b[39m \u001b[39m \u001b[39m \u001b[39m \u001b[39m \u001b[39m \u001b[39m \u001b[39m \u001b[39m \u001b[39m \u001b[39m \u001b[39m \u001b[39m \u001b[39m \u001b[39m \u001b[39m \u001b[39m \u001b[39m▂\n",
       "  \u001b[39m█\u001b[39m█\u001b[39m█\u001b[34m█\u001b[39m\u001b[39m█\u001b[39m█\u001b[39m█\u001b[39m█\u001b[39m█\u001b[39m█\u001b[32m█\u001b[39m\u001b[39m█\u001b[39m▇\u001b[39m▇\u001b[39m▇\u001b[39m▇\u001b[39m▇\u001b[39m▇\u001b[39m▇\u001b[39m█\u001b[39m█\u001b[39m█\u001b[39m▇\u001b[39m▇\u001b[39m▆\u001b[39m▅\u001b[39m▆\u001b[39m▅\u001b[39m▆\u001b[39m▅\u001b[39m▅\u001b[39m▆\u001b[39m▆\u001b[39m█\u001b[39m█\u001b[39m█\u001b[39m█\u001b[39m█\u001b[39m▇\u001b[39m▇\u001b[39m▅\u001b[39m▄\u001b[39m▅\u001b[39m▅\u001b[39m▅\u001b[39m▅\u001b[39m▄\u001b[39m▄\u001b[39m▄\u001b[39m▅\u001b[39m▅\u001b[39m▃\u001b[39m▄\u001b[39m▄\u001b[39m▁\u001b[39m▄\u001b[39m▁\u001b[39m▃\u001b[39m▅\u001b[39m▄\u001b[39m▅\u001b[39m \u001b[39m█\n",
       "  254 μs\u001b[90m        \u001b[39m\u001b[90mHistogram: \u001b[39m\u001b[90m\u001b[1mlog(\u001b[22m\u001b[39m\u001b[90mfrequency\u001b[39m\u001b[90m\u001b[1m)\u001b[22m\u001b[39m\u001b[90m by time\u001b[39m        471 μs \u001b[0m\u001b[1m<\u001b[22m\n",
       "\n",
       " Memory estimate\u001b[90m: \u001b[39m\u001b[33m229.44 KiB\u001b[39m, allocs estimate\u001b[90m: \u001b[39m\u001b[33m1223\u001b[39m."
      ]
     },
     "execution_count": 44,
     "metadata": {},
     "output_type": "execute_result"
    }
   ],
   "source": [
    "@benchmark p = _solve_moment(X,y , 0.0001)"
   ]
  },
  {
   "cell_type": "code",
   "execution_count": 74,
   "metadata": {},
   "outputs": [
    {
     "data": {
      "text/plain": [
       "4×2 Matrix{Float64}:\n",
       "  0.829378   0.0241021\n",
       "  1.53447    2.16452\n",
       " -2.20121   -0.931921\n",
       " -2.81046    2.83919"
      ]
     },
     "execution_count": 74,
     "metadata": {},
     "output_type": "execute_result"
    }
   ],
   "source": [
    "params_R_iris = _solve_moment(X,y ,\n",
    "    0.0001)\n",
    "params_R_iris[\"coef\"]"
   ]
  },
  {
   "cell_type": "code",
   "execution_count": 65,
   "metadata": {},
   "outputs": [
    {
     "data": {
      "text/plain": [
       "4×2 Matrix{Float64}:\n",
       "  0.208742   0.00653196\n",
       "  0.386204   0.586611\n",
       " -0.554012  -0.252562\n",
       " -0.70735    0.769453"
      ]
     },
     "execution_count": 65,
     "metadata": {},
     "output_type": "execute_result"
    }
   ],
   "source": [
    "params_R_iris = _solve_moment(X,y , 0.0001)\n",
    "proj = params_R_iris[\"coef\"]\n",
    "make_normal(proj)"
   ]
  },
  {
   "cell_type": "code",
   "execution_count": 50,
   "metadata": {},
   "outputs": [
    {
     "data": {
      "text/plain": [
       "make_normal (generic function with 1 method)"
      ]
     },
     "execution_count": 50,
     "metadata": {},
     "output_type": "execute_result"
    }
   ],
   "source": [
    "function make_normal(X)\n",
    "    \n",
    "    temp = X.*X\n",
    "    temp = sum(temp , dims = 1)\n",
    "    temp = .√(temp)\n",
    "    temp = broadcast(/ , X , temp)\n",
    "    return(temp)\n",
    "end"
   ]
  },
  {
   "cell_type": "code",
   "execution_count": 51,
   "metadata": {},
   "outputs": [
    {
     "data": {
      "text/plain": [
       "4×2 Matrix{Float64}:\n",
       "  0.208742   0.00653196\n",
       "  0.386204   0.586611\n",
       " -0.554012  -0.252562\n",
       " -0.70735    0.769453"
      ]
     },
     "execution_count": 51,
     "metadata": {},
     "output_type": "execute_result"
    }
   ],
   "source": [
    "make_normal(proj)"
   ]
  },
  {
   "cell_type": "markdown",
   "metadata": {},
   "source": [
    "###  R's result on IRIS LDA\n",
    "\n",
    "Coefficients of linear discriminants:\n",
    "                    LD1         LD2\n",
    "Sepal.Length  0.8293776  0.02410215\n",
    "Sepal.Width   1.5344731  2.16452123\n",
    "Petal.Length -2.2012117 -0.93192121\n",
    "Petal.Width  -2.8104603  2.83918785\n"
   ]
  },
  {
   "cell_type": "markdown",
   "metadata": {},
   "source": [
    "## Penguin"
   ]
  },
  {
   "cell_type": "code",
   "execution_count": 37,
   "metadata": {},
   "outputs": [],
   "source": [
    "using CSV\n",
    "using DataFrames\n",
    "\n",
    "df = CSV.read(\"penguins_lter.csv\" , DataFrame)\n",
    "df = df[!,[\"Culmen Length (mm)\" , \"Culmen Depth (mm)\", \"Flipper Length (mm)\",\"Body Mass (g)\",\"Sex\" ]]\n",
    "df = dropmissing(df::AbstractDataFrame)\n",
    "y = df[!,\"Sex\"]\n",
    "labels = zeros(length(y))\n",
    "for (idx,sex) in enumerate(y)\n",
    "    if sex ==\"MALE\"\n",
    "        labels[idx] = 1\n",
    "    end\n",
    "end\n",
    "y = labels\n",
    "X = df[!,[\"Culmen Length (mm)\" , \"Culmen Depth (mm)\", \"Flipper Length (mm)\",\"Body Mass (g)\"]];\n"
   ]
  },
  {
   "cell_type": "code",
   "execution_count": 79,
   "metadata": {},
   "outputs": [],
   "source": [
    "df = CSV.read(\"file1.csv\" , DataFrame)\n",
    "\n",
    "X = df[!,[\"Culmen Length (mm)\" , \"Culmen Depth (mm)\", \"Flipper Length (mm)\",\"Body Mass (g)\"]]\n",
    "\n",
    "y = df[!,\"Species\"]\n",
    "labels = zeros(length(y))\n",
    "for (idx,specie) in enumerate(y)\n",
    "    if specie ==\"Adelie Penguin (Pygoscelis adeliae)\"\n",
    "        labels[idx] = 1\n",
    "    elseif specie == \"Gentoo penguin (Pygoscelis papua)\"\n",
    "        labels[idx] = 2\n",
    "    end\n",
    "end\n",
    "y = labels;\n"
   ]
  },
  {
   "cell_type": "code",
   "execution_count": 78,
   "metadata": {},
   "outputs": [
    {
     "data": {
      "text/plain": [
       "4×2 Matrix{Float64}:\n",
       "  0.0883267   -0.417871\n",
       " -1.0373      -0.0210049\n",
       "  0.0861628    0.0134747\n",
       "  0.00129952   0.00171144"
      ]
     },
     "execution_count": 78,
     "metadata": {},
     "output_type": "execute_result"
    }
   ],
   "source": [
    "params_R_penguin = _solve_moment(X,y,\n",
    "    0.0001 )\n",
    "params_R_penguin[\"coef\"]"
   ]
  },
  {
   "cell_type": "code",
   "execution_count": 77,
   "metadata": {},
   "outputs": [
    {
     "data": {
      "text/plain": [
       "4×2 Matrix{Float64}:\n",
       "  0.0883267   -0.417871\n",
       " -1.0373      -0.0210049\n",
       "  0.0861628    0.0134747\n",
       "  0.00129952   0.00171144"
      ]
     },
     "execution_count": 77,
     "metadata": {},
     "output_type": "execute_result"
    }
   ],
   "source": [
    "params_R_penguin[\"coef\"]"
   ]
  },
  {
   "cell_type": "code",
   "execution_count": 59,
   "metadata": {},
   "outputs": [
    {
     "data": {
      "text/plain": [
       "4×2 Matrix{Float64}:\n",
       "  0.084554    -0.998213\n",
       " -0.992998    -0.0501766\n",
       "  0.0824825    0.0321884\n",
       "  0.00124401   0.00408829"
      ]
     },
     "execution_count": 59,
     "metadata": {},
     "output_type": "execute_result"
    }
   ],
   "source": [
    "make_normal(params_R[\"coef\"])"
   ]
  },
  {
   "cell_type": "code",
   "execution_count": 22,
   "metadata": {},
   "outputs": [
    {
     "ename": "LoadError",
     "evalue": "syntax: extra token \"of\" after end of expression",
     "output_type": "error",
     "traceback": [
      "syntax: extra token \"of\" after end of expression",
      "",
      "Stacktrace:",
      " [1] top-level scope",
      "   @ In[22]:1",
      " [2] eval",
      "   @ .\\boot.jl:373 [inlined]",
      " [3] include_string(mapexpr::typeof(REPL.softscope), mod::Module, code::String, filename::String)",
      "   @ Base .\\loading.jl:1196"
     ]
    }
   ],
   "source": [
    "\n",
    "4×2 Matrix{Float64}:\n",
    "  0.0820607   -0.998165\n",
    " -0.991605    -0.052959\n",
    "  0.0999184    0.0290805\n",
    "  0.00133546   0.00413342\n",
    "\n",
    "\n",
    "4×2 Matrix{Float64}:\n",
    "  0.084554    -0.998213\n",
    " -0.992998    -0.0501766\n",
    "  0.0824825    0.0321884\n",
    "  0.00124401   0.00408829\n",
    "\n",
    "\n",
    "Coefficients of linear discriminants:\n",
    "                            LD1          LD2\n",
    "Culmen.Length..mm.   0.08832666 -0.417870885\n",
    "Culmen.Depth..mm.   -1.03730494 -0.021004854\n",
    "Flipper.Length..mm.  0.08616282  0.013474680\n",
    "Body.Mass..g.        0.00129952  0.001711436\n",
    "\n",
    "\n",
    "Coefficients of linear discriminants:\n",
    "                            LD1          LD2\n",
    "Culmen.Length..mm.   0.08832666 -0.417870885\n",
    "Culmen.Depth..mm.   -1.03730494 -0.021004854\n",
    "Flipper.Length..mm.  0.08616282  0.013474680\n",
    "Body.Mass..g.        0.00129952  0.001711436\n",
    "\n",
    "P"
   ]
  },
  {
   "cell_type": "code",
   "execution_count": 23,
   "metadata": {},
   "outputs": [
    {
     "data": {
      "text/plain": [
       "Dict{String, Any} with 4 entries:\n",
       "  \"rank\"      => 2\n",
       "  \"intercept\" => [-16.7292; 32.1089; -56.9873;;]\n",
       "  \"coef\"      => [0.0883267 -0.417871; -1.0373 -0.0210049; 0.0861628 0.0134747;…\n",
       "  \"scalings\"  => [0.0883267 -0.417871; -1.0373 -0.0210049; 0.0861628 0.0134747;…"
      ]
     },
     "execution_count": 23,
     "metadata": {},
     "output_type": "execute_result"
    }
   ],
   "source": [
    "params_R = _solve_moment(X,y , 0.0001 )"
   ]
  },
  {
   "cell_type": "markdown",
   "metadata": {},
   "source": [
    "##  R's result on PENGUIN LDA\n",
    "\n",
    "Coefficients of linear discriminants:\n",
    "                           LD1\n",
    "bill_length_mm     0.036231765\n",
    "bill_depth_mm      0.751144512\n",
    "flipper_length_mm -0.005785753\n",
    "body_mass_g        0.001889799"
   ]
  },
  {
   "cell_type": "code",
   "execution_count": 80,
   "metadata": {},
   "outputs": [
    {
     "data": {
      "text/plain": [
       "3×4 Matrix{Float64}:\n",
       "  1.06215    2.06466  -0.206102  -0.00755752\n",
       " -0.755773   3.38789  -0.268351  -0.0023679\n",
       "  0.340615  -5.30055   0.443381   0.00708508"
      ]
     },
     "execution_count": 80,
     "metadata": {},
     "output_type": "execute_result"
    }
   ],
   "source": [
    "tol = 0.0001\n",
    "pramas_py_penguin = _solve_SVD(X,y , tol)\n",
    "pramas_py_penguin[\"coef\"]"
   ]
  },
  {
   "cell_type": "code",
   "execution_count": 62,
   "metadata": {},
   "outputs": [
    {
     "data": {
      "text/plain": [
       "3×4 Matrix{Float64}:\n",
       "  0.78832    0.31184   -0.369528  -0.711199\n",
       " -0.56093    0.511695  -0.481137  -0.222831\n",
       "  0.252803  -0.800577   0.794956   0.66674"
      ]
     },
     "execution_count": 62,
     "metadata": {},
     "output_type": "execute_result"
    }
   ],
   "source": [
    "make_normal(pramas_py[\"coef\"])"
   ]
  },
  {
   "cell_type": "code",
   "execution_count": null,
   "metadata": {},
   "outputs": [],
   "source": [
    "array([[ 1.06214785e+00,  2.06466324e+00, -2.06101568e-01,\n",
    "        -7.55752064e-03],\n",
    "       [-7.55773193e-01,  3.38788801e+00, -2.68350550e-01,\n",
    "        -2.36789997e-03],\n",
    "       [ 3.40615434e-01, -5.30055439e+00,  4.43380810e-01,\n",
    "         7.08507560e-03]])"
   ]
  },
  {
   "cell_type": "code",
   "execution_count": 38,
   "metadata": {},
   "outputs": [],
   "source": [
    "df = CSV.read(\"file2.csv\" , DataFrame)\n",
    "\n",
    "X = df[!,[\"Culmen Length (mm)\" , \"Culmen Depth (mm)\", \"Flipper Length (mm)\",\"Body Mass (g)\"]]\n",
    "\n",
    "y = df[!,\"Sex\"]\n",
    "\n",
    "labels = zeros(length(y))\n",
    "for (idx,sex) in enumerate(y)\n",
    "    if sex ==\"MALE\"\n",
    "        labels[idx] = 1\n",
    "    end\n",
    "end\n",
    "y = labels;\n"
   ]
  },
  {
   "cell_type": "code",
   "execution_count": 40,
   "metadata": {},
   "outputs": [
    {
     "data": {
      "text/plain": [
       "BenchmarkTools.Trial: 10000 samples with 1 evaluation.\n",
       " Range \u001b[90m(\u001b[39m\u001b[36m\u001b[1mmin\u001b[22m\u001b[39m … \u001b[35mmax\u001b[39m\u001b[90m):  \u001b[39m\u001b[36m\u001b[1m268.830 μs\u001b[22m\u001b[39m … \u001b[35m  8.314 ms\u001b[39m  \u001b[90m┊\u001b[39m GC \u001b[90m(\u001b[39mmin … max\u001b[90m): \u001b[39m0.00% … 94.31%\n",
       " Time  \u001b[90m(\u001b[39m\u001b[34m\u001b[1mmedian\u001b[22m\u001b[39m\u001b[90m):     \u001b[39m\u001b[34m\u001b[1m307.122 μs               \u001b[22m\u001b[39m\u001b[90m┊\u001b[39m GC \u001b[90m(\u001b[39mmedian\u001b[90m):    \u001b[39m0.00%\n",
       " Time  \u001b[90m(\u001b[39m\u001b[32m\u001b[1mmean\u001b[22m\u001b[39m ± \u001b[32mσ\u001b[39m\u001b[90m):   \u001b[39m\u001b[32m\u001b[1m378.798 μs\u001b[22m\u001b[39m ± \u001b[32m494.362 μs\u001b[39m  \u001b[90m┊\u001b[39m GC \u001b[90m(\u001b[39mmean ± σ\u001b[90m):  \u001b[39m9.55% ±  7.02%\n",
       "\n",
       "  \u001b[39m \u001b[39m \u001b[39m \u001b[39m \u001b[39m \u001b[39m█\u001b[34m \u001b[39m\u001b[39m \u001b[39m \u001b[39m \u001b[39m \u001b[39m \u001b[39m \u001b[39m \u001b[39m \u001b[39m \u001b[32m \u001b[39m\u001b[39m \u001b[39m \u001b[39m \u001b[39m \u001b[39m \u001b[39m \u001b[39m \u001b[39m \u001b[39m \u001b[39m \u001b[39m \u001b[39m \u001b[39m \u001b[39m \u001b[39m \u001b[39m \u001b[39m \u001b[39m \u001b[39m \u001b[39m \u001b[39m \u001b[39m \u001b[39m \u001b[39m \u001b[39m \u001b[39m \u001b[39m \u001b[39m \u001b[39m \u001b[39m \u001b[39m \u001b[39m \u001b[39m \u001b[39m \u001b[39m \u001b[39m \u001b[39m \u001b[39m \u001b[39m \u001b[39m \u001b[39m \u001b[39m \u001b[39m \u001b[39m \u001b[39m \u001b[39m \n",
       "  \u001b[39m▆\u001b[39m█\u001b[39m▇\u001b[39m▆\u001b[39m█\u001b[39m█\u001b[34m▇\u001b[39m\u001b[39m▃\u001b[39m▃\u001b[39m▂\u001b[39m▂\u001b[39m▂\u001b[39m▂\u001b[39m▂\u001b[39m▃\u001b[39m▃\u001b[32m▃\u001b[39m\u001b[39m▂\u001b[39m▁\u001b[39m▁\u001b[39m▁\u001b[39m▂\u001b[39m▂\u001b[39m▂\u001b[39m▂\u001b[39m▂\u001b[39m▂\u001b[39m▂\u001b[39m▂\u001b[39m▂\u001b[39m▁\u001b[39m▁\u001b[39m▁\u001b[39m▂\u001b[39m▁\u001b[39m▁\u001b[39m▁\u001b[39m▂\u001b[39m▁\u001b[39m▁\u001b[39m▁\u001b[39m▁\u001b[39m▁\u001b[39m▁\u001b[39m▁\u001b[39m▁\u001b[39m▁\u001b[39m▁\u001b[39m▁\u001b[39m▁\u001b[39m▁\u001b[39m▁\u001b[39m▁\u001b[39m▁\u001b[39m▁\u001b[39m▁\u001b[39m▁\u001b[39m▁\u001b[39m▁\u001b[39m▁\u001b[39m▁\u001b[39m \u001b[39m▂\n",
       "  269 μs\u001b[90m           Histogram: frequency by time\u001b[39m          677 μs \u001b[0m\u001b[1m<\u001b[22m\n",
       "\n",
       " Memory estimate\u001b[90m: \u001b[39m\u001b[33m316.94 KiB\u001b[39m, allocs estimate\u001b[90m: \u001b[39m\u001b[33m997\u001b[39m."
      ]
     },
     "execution_count": 40,
     "metadata": {},
     "output_type": "execute_result"
    }
   ],
   "source": [
    "#params = _solve_SVD(X,y , 0.0001 )\n",
    "\n",
    "@benchmark pramas = _solve_SVD(X,y , tol)"
   ]
  },
  {
   "cell_type": "code",
   "execution_count": 29,
   "metadata": {},
   "outputs": [
    {
     "data": {
      "text/plain": [
       "4-element Vector{Float64}:\n",
       "  0.09300704575251453\n",
       "  1.8569412293410679\n",
       " -0.0172074752474619\n",
       "  0.004687819990745008"
      ]
     },
     "execution_count": 29,
     "metadata": {},
     "output_type": "execute_result"
    }
   ],
   "source": [
    "params[\"coef\"]"
   ]
  },
  {
   "cell_type": "markdown",
   "metadata": {},
   "source": [
    "## Python's  result on Penguins LDA\n",
    "\n",
    "### Coef_\n",
    "\n",
    "array([[ 0.09300705,  1.85694123, -0.01720748,  0.00468782]])"
   ]
  },
  {
   "cell_type": "code",
   "execution_count": 30,
   "metadata": {},
   "outputs": [
    {
     "data": {
      "text/plain": [
       "2"
      ]
     },
     "execution_count": 30,
     "metadata": {},
     "output_type": "execute_result"
    }
   ],
   "source": [
    "pramas_py[\"rank\"]"
   ]
  },
  {
   "cell_type": "code",
   "execution_count": 31,
   "metadata": {},
   "outputs": [
    {
     "data": {
      "text/plain": [
       "3×1 Matrix{Float64}:\n",
       " -16.72920937332333\n",
       "  32.10890197012843\n",
       " -56.98730763237397"
      ]
     },
     "execution_count": 31,
     "metadata": {},
     "output_type": "execute_result"
    }
   ],
   "source": [
    "pramas_py[\"intercept\"]"
   ]
  },
  {
   "cell_type": "markdown",
   "metadata": {},
   "source": [
    "### intercept_\n",
    "\n",
    "array([52.19978716])"
   ]
  },
  {
   "cell_type": "markdown",
   "metadata": {},
   "source": [
    "## MPG"
   ]
  },
  {
   "cell_type": "code",
   "execution_count": 45,
   "metadata": {},
   "outputs": [
    {
     "data": {
      "text/plain": [
       "234-element Vector{Int64}:\n",
       " 2\n",
       " 2\n",
       " 2\n",
       " 2\n",
       " 2\n",
       " 2\n",
       " 2\n",
       " 1\n",
       " 1\n",
       " 1\n",
       " 1\n",
       " 1\n",
       " 1\n",
       " ⋮\n",
       " 2\n",
       " 2\n",
       " 2\n",
       " 2\n",
       " 2\n",
       " 2\n",
       " 2\n",
       " 2\n",
       " 2\n",
       " 2\n",
       " 2\n",
       " 2"
      ]
     },
     "execution_count": 45,
     "metadata": {},
     "output_type": "execute_result"
    }
   ],
   "source": [
    "mpg = dataset(\"ggplot2\", \"mpg\")\n",
    "\n",
    "X = mpg[!,[\"Displ\", \"Cyl\"]]\n",
    "y = _make_cat(mpg[!,\"Drv\"])\n"
   ]
  },
  {
   "cell_type": "code",
   "execution_count": 46,
   "metadata": {},
   "outputs": [
    {
     "data": {
      "text/plain": [
       "BenchmarkTools.Trial: 10000 samples with 1 evaluation.\n",
       " Range \u001b[90m(\u001b[39m\u001b[36m\u001b[1mmin\u001b[22m\u001b[39m … \u001b[35mmax\u001b[39m\u001b[90m):  \u001b[39m\u001b[36m\u001b[1m225.801 μs\u001b[22m\u001b[39m … \u001b[35m  5.603 ms\u001b[39m  \u001b[90m┊\u001b[39m GC \u001b[90m(\u001b[39mmin … max\u001b[90m): \u001b[39m0.00% … 91.93%\n",
       " Time  \u001b[90m(\u001b[39m\u001b[34m\u001b[1mmedian\u001b[22m\u001b[39m\u001b[90m):     \u001b[39m\u001b[34m\u001b[1m233.302 μs               \u001b[22m\u001b[39m\u001b[90m┊\u001b[39m GC \u001b[90m(\u001b[39mmedian\u001b[90m):    \u001b[39m0.00%\n",
       " Time  \u001b[90m(\u001b[39m\u001b[32m\u001b[1mmean\u001b[22m\u001b[39m ± \u001b[32mσ\u001b[39m\u001b[90m):   \u001b[39m\u001b[32m\u001b[1m257.359 μs\u001b[22m\u001b[39m ± \u001b[32m281.639 μs\u001b[39m  \u001b[90m┊\u001b[39m GC \u001b[90m(\u001b[39mmean ± σ\u001b[90m):  \u001b[39m6.35% ±  5.53%\n",
       "\n",
       "  \u001b[39m▅\u001b[39m█\u001b[34m█\u001b[39m\u001b[39m▆\u001b[39m▄\u001b[39m▄\u001b[39m▄\u001b[39m▃\u001b[39m▂\u001b[39m▁\u001b[32m \u001b[39m\u001b[39m \u001b[39m \u001b[39m \u001b[39m \u001b[39m \u001b[39m \u001b[39m \u001b[39m \u001b[39m \u001b[39m \u001b[39m \u001b[39m \u001b[39m \u001b[39m \u001b[39m \u001b[39m \u001b[39m \u001b[39m \u001b[39m \u001b[39m \u001b[39m \u001b[39m \u001b[39m \u001b[39m \u001b[39m \u001b[39m \u001b[39m \u001b[39m \u001b[39m \u001b[39m \u001b[39m \u001b[39m \u001b[39m \u001b[39m \u001b[39m \u001b[39m \u001b[39m \u001b[39m \u001b[39m \u001b[39m \u001b[39m \u001b[39m \u001b[39m \u001b[39m \u001b[39m \u001b[39m \u001b[39m \u001b[39m \u001b[39m \u001b[39m \u001b[39m \u001b[39m▂\n",
       "  \u001b[39m█\u001b[39m█\u001b[34m█\u001b[39m\u001b[39m█\u001b[39m█\u001b[39m█\u001b[39m█\u001b[39m█\u001b[39m█\u001b[39m█\u001b[32m█\u001b[39m\u001b[39m█\u001b[39m▇\u001b[39m▆\u001b[39m▇\u001b[39m▇\u001b[39m▆\u001b[39m▆\u001b[39m▆\u001b[39m▆\u001b[39m▆\u001b[39m▇\u001b[39m█\u001b[39m█\u001b[39m▇\u001b[39m▆\u001b[39m▆\u001b[39m▅\u001b[39m▅\u001b[39m▅\u001b[39m▆\u001b[39m▆\u001b[39m▄\u001b[39m▆\u001b[39m▆\u001b[39m▇\u001b[39m▇\u001b[39m█\u001b[39m█\u001b[39m█\u001b[39m█\u001b[39m▇\u001b[39m▇\u001b[39m▆\u001b[39m▅\u001b[39m▅\u001b[39m▆\u001b[39m▄\u001b[39m▄\u001b[39m▁\u001b[39m▃\u001b[39m▃\u001b[39m▄\u001b[39m▄\u001b[39m▃\u001b[39m▃\u001b[39m▄\u001b[39m▄\u001b[39m▄\u001b[39m▄\u001b[39m▃\u001b[39m \u001b[39m█\n",
       "  226 μs\u001b[90m        \u001b[39m\u001b[90mHistogram: \u001b[39m\u001b[90m\u001b[1mlog(\u001b[22m\u001b[39m\u001b[90mfrequency\u001b[39m\u001b[90m\u001b[1m)\u001b[22m\u001b[39m\u001b[90m by time\u001b[39m        413 μs \u001b[0m\u001b[1m<\u001b[22m\n",
       "\n",
       " Memory estimate\u001b[90m: \u001b[39m\u001b[33m208.50 KiB\u001b[39m, allocs estimate\u001b[90m: \u001b[39m\u001b[33m1083\u001b[39m."
      ]
     },
     "execution_count": 46,
     "metadata": {},
     "output_type": "execute_result"
    }
   ],
   "source": [
    "@benchmark pramas_mpg = _solve_moment(X,y , 0.0000001 )"
   ]
  },
  {
   "cell_type": "code",
   "execution_count": 34,
   "metadata": {},
   "outputs": [
    {
     "data": {
      "text/plain": [
       "2×2 Matrix{Float64}:\n",
       " -1.52677   1.80351\n",
       "  0.38846  -1.66271"
      ]
     },
     "execution_count": 34,
     "metadata": {},
     "output_type": "execute_result"
    }
   ],
   "source": [
    "pramas_mpg[\"coef\"]"
   ]
  },
  {
   "cell_type": "markdown",
   "metadata": {},
   "source": [
    "### R's result \n",
    "Coefficients of linear discriminants:\n",
    "             LD1       LD2\n",
    "displ -1.5267671  1.803505\n",
    "cyl    0.3884603 -1.662712"
   ]
  }
 ],
 "metadata": {
  "kernelspec": {
   "display_name": "Julia 1.7.2",
   "language": "julia",
   "name": "julia-1.7"
  },
  "language_info": {
   "file_extension": ".jl",
   "mimetype": "application/julia",
   "name": "julia",
   "version": "1.7.2"
  }
 },
 "nbformat": 4,
 "nbformat_minor": 4
}
